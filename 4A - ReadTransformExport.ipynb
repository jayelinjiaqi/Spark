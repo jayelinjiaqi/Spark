{
 "cells": [
  {
   "cell_type": "code",
   "execution_count": 1,
   "id": "e5de8c5f",
   "metadata": {},
   "outputs": [],
   "source": [
    "from pyspark.sql import SparkSession\n",
    "import os"
   ]
  },
  {
   "cell_type": "code",
   "execution_count": 2,
   "id": "04836296",
   "metadata": {},
   "outputs": [
    {
     "name": "stderr",
     "output_type": "stream",
     "text": [
      "Setting default log level to \"WARN\".\n",
      "To adjust logging level use sc.setLogLevel(newLevel). For SparkR, use setLogLevel(newLevel).\n",
      "25/07/27 06:43:45 WARN NativeCodeLoader: Unable to load native-hadoop library for your platform... using builtin-java classes where applicable\n"
     ]
    }
   ],
   "source": [
    "spark = SparkSession.builder \\\n",
    "    .appName(\"PSI Weather Analysis\") \\\n",
    "    .master(\"yarn\") \\\n",
    "    .getOrCreate()"
   ]
  },
  {
   "cell_type": "code",
   "execution_count": 3,
   "id": "21d7af3b",
   "metadata": {},
   "outputs": [],
   "source": [
    "psi_path = \"hdfs:///data/psi_data.csv\" \n",
    "weather_path = \"hdfs:///data/weather_data.csv\""
   ]
  },
  {
   "cell_type": "code",
   "execution_count": 5,
   "id": "5cec71ca",
   "metadata": {},
   "outputs": [
    {
     "name": "stderr",
     "output_type": "stream",
     "text": [
      "                                                                                \r"
     ]
    },
    {
     "name": "stdout",
     "output_type": "stream",
     "text": [
      "PSI Data Row Count: 85488 rows\n",
      "+-------------+-----+-----+----+----+-------+\n",
      "|     24hr_psi|north|south|east|west|central|\n",
      "+-------------+-----+-----+----+----+-------+\n",
      "|1/4/2014 1:00|   55|   54|  54|  58|     54|\n",
      "|1/4/2014 2:00|   55|   54|  54|  59|     54|\n",
      "|1/4/2014 3:00|   55|   55|  54|  60|     55|\n",
      "|1/4/2014 4:00|   56|   55|  55|  62|     55|\n",
      "|1/4/2014 5:00|   57|   55|  56|  63|     56|\n",
      "+-------------+-----+-----+----+----+-------+\n",
      "only showing top 5 rows\n",
      "\n",
      "Weather Data Row Count: 46248 rows\n",
      "+---------+-------------------+----+---------+----+--------+------+----------+----------+----+---------+--------+---------+-------+----------------+----------+----------+--------------+-----------+-------+----------+----------------+-------------------+--------------------+\n",
      "|     name|           datetime|temp|feelslike| dew|humidity|precip|precipprob|preciptype|snow|snowdepth|windgust|windspeed|winddir|sealevelpressure|cloudcover|visibility|solarradiation|solarenergy|uvindex|severerisk|      conditions|               icon|            stations|\n",
      "+---------+-------------------+----+---------+----+--------+------+----------+----------+----+---------+--------+---------+-------+----------------+----------+----------+--------------+-----------+-------+----------+----------------+-------------------+--------------------+\n",
      "|Singapore|2018-11-06 00:00:00|27.2|     31.1|25.0|   87.61|   0.0|         0|      NULL|   0|        0|    21.2|      1.7|   14.0|          1010.0|      89.2|      10.0|           0.0|        0.0|      0|      NULL|Partially cloudy|partly-cloudy-night|48698099999,48679...|\n",
      "|Singapore|2018-11-06 01:00:00|27.2|     31.1|25.0|   87.61|   0.0|         0|      NULL|   0|        0|    21.2|      1.0|    0.0|          1009.0|      89.2|      10.0|           0.0|        0.0|      0|      NULL|Partially cloudy|partly-cloudy-night|48698099999,48679...|\n",
      "|Singapore|2018-11-06 02:00:00|27.2|     30.8|24.7|   86.22|   0.0|         0|      NULL|   0|        0|    19.1|      3.2|  321.0|          1008.2|      88.7|      10.1|           0.0|        0.0|      0|      NULL|Partially cloudy|partly-cloudy-night|48698099999,48679...|\n",
      "|Singapore|2018-11-06 03:00:00|26.7|     26.7|24.6|    88.4|   0.0|         0|      NULL|   0|        0|    18.7|      3.6|  294.0|          1008.0|      89.1|      10.0|           0.0|        0.0|      0|      NULL|Partially cloudy|partly-cloudy-night|48698099999,48679...|\n",
      "|Singapore|2018-11-06 04:00:00|26.2|     26.2|24.6|   90.62|   0.0|         0|      NULL|   0|        0|    20.5|      2.2|  290.0|          1007.2|      89.2|      10.0|           0.0|        0.0|      0|      NULL|Partially cloudy|partly-cloudy-night|48698099999,48679...|\n",
      "+---------+-------------------+----+---------+----+--------+------+----------+----------+----+---------+--------+---------+-------+----------------+----------+----------+--------------+-----------+-------+----------+----------------+-------------------+--------------------+\n",
      "only showing top 5 rows\n",
      "\n"
     ]
    }
   ],
   "source": [
    "# read csv using spark\n",
    "\n",
    "df_psi = spark.read.csv(\n",
    "    psi_path,\n",
    "    header=True,         # first row contains column names\n",
    "    inferSchema=True     # attempts to infer column data types\n",
    ")\n",
    "\n",
    "df_weather = spark.read.csv(\n",
    "    weather_path,\n",
    "    header=True,\n",
    "    inferSchema=True\n",
    ")\n",
    "\n",
    "print(\"PSI Data Row Count:\", df_psi.count(), \"rows\")\n",
    "df_psi.show(5)\n",
    "print(\"Weather Data Row Count:\", df_weather.count(), \"rows\")\n",
    "df_weather.show(5)"
   ]
  },
  {
   "cell_type": "markdown",
   "id": "917ecb48",
   "metadata": {},
   "source": [
    "# Convert 24hr_psi to timestamp column"
   ]
  },
  {
   "cell_type": "code",
   "execution_count": null,
   "id": "44cf632b",
   "metadata": {},
   "outputs": [
    {
     "name": "stdout",
     "output_type": "stream",
     "text": [
      "Row Count: 85488 rows\n"
     ]
    }
   ],
   "source": [
    "# convert 24hr_psi to timestamp column\n",
    "\n",
    "from pyspark.sql import functions as F\n",
    "\n",
    "# Adjust the format string depending on your actual data format:\n",
    "# e.g., \"M/d/yyyy H:mm\" if months/days/hours are not zero-padded.\n",
    "# If your data is like \"01/01/2023 00:00\" (fully zero-padded), use \"MM/dd/yyyy HH:mm\".\n",
    "df_psi = df_psi.withColumn(\n",
    "    \"parsed_datetime\",\n",
    "    F.to_timestamp(\"24hr_psi\", \"d/M/yyyy H:mm\")  # or \"MM/dd/yyyy HH:mm\"\n",
    ")\n",
    "print(\"Row Count:\", df_psi.count(), \"rows\")\n"
   ]
  },
  {
   "cell_type": "code",
   "execution_count": 8,
   "id": "d5585966",
   "metadata": {},
   "outputs": [
    {
     "name": "stdout",
     "output_type": "stream",
     "text": [
      "After filtering PSI data (2022-2023): 17520 rows\n",
      "+-------------+-----+-----+----+----+-------+-------------------+\n",
      "|     24hr_psi|north|south|east|west|central|    parsed_datetime|\n",
      "+-------------+-----+-----+----+----+-------+-------------------+\n",
      "|1/1/2022 0:00|   29|   27|  32|  17|     29|2022-01-01 00:00:00|\n",
      "|1/1/2022 1:00|   30|   25|  32|  18|     29|2022-01-01 01:00:00|\n",
      "|1/1/2022 2:00|   30|   24|  31|  19|     30|2022-01-01 02:00:00|\n",
      "|1/1/2022 3:00|   30|   23|  30|  19|     31|2022-01-01 03:00:00|\n",
      "|1/1/2022 4:00|   31|   23|  29|  20|     30|2022-01-01 04:00:00|\n",
      "+-------------+-----+-----+----+----+-------+-------------------+\n",
      "only showing top 5 rows\n",
      "\n"
     ]
    }
   ],
   "source": [
    "# filter to keep 2022 and 2023\n",
    "\n",
    "df_psi_filtered = df_psi.filter(\n",
    "    (F.year(\"parsed_datetime\") >= 2022) &\n",
    "    (F.year(\"parsed_datetime\") <= 2023)\n",
    ")\n",
    "\n",
    "print(\"After filtering PSI data (2022-2023):\", df_psi_filtered.count(), \"rows\")\n",
    "df_psi_filtered.show(5)"
   ]
  },
  {
   "cell_type": "markdown",
   "id": "663c9427",
   "metadata": {},
   "source": [
    "# Convert 24hr_weather string to timestamp column"
   ]
  },
  {
   "cell_type": "code",
   "execution_count": 9,
   "id": "5a5c4b39",
   "metadata": {},
   "outputs": [
    {
     "name": "stdout",
     "output_type": "stream",
     "text": [
      "Row Count: 46248 rows\n"
     ]
    }
   ],
   "source": [
    "# Convert the string column (e.g., \"datetime\") to a proper timestamp.\n",
    "# Adjust the format string to match your actual data (for example, \"yyyy-MM-dd'T'HH:mm:ss\").\n",
    "df_weather = df_weather.withColumn(\n",
    "    \"parsed_datetime\",\n",
    "    F.to_timestamp(\"datetime\", \"yyyy-MM-dd'T'HH:mm:ss\")\n",
    ")\n",
    "print(\"Row Count:\", df_weather.count(), \"rows\")\n"
   ]
  },
  {
   "cell_type": "code",
   "execution_count": 12,
   "id": "e82ae3e1",
   "metadata": {},
   "outputs": [
    {
     "name": "stdout",
     "output_type": "stream",
     "text": [
      "After filtering Weather data (2022-2023): 18504 rows\n",
      "+---------+-------------------+----+---------+----+--------+------+----------+----------+----+---------+--------+---------+-------+----------------+----------+----------+--------------+-----------+-------+----------+--------------------+-------------------+--------------------+-------------------+\n",
      "|     name|           datetime|temp|feelslike| dew|humidity|precip|precipprob|preciptype|snow|snowdepth|windgust|windspeed|winddir|sealevelpressure|cloudcover|visibility|solarradiation|solarenergy|uvindex|severerisk|          conditions|               icon|            stations|    parsed_datetime|\n",
      "+---------+-------------------+----+---------+----+--------+------+----------+----------+----+---------+--------+---------+-------+----------------+----------+----------+--------------+-----------+-------+----------+--------------------+-------------------+--------------------+-------------------+\n",
      "|Singapore|2022-01-01 00:00:00|25.0|     25.0|24.0|   94.03|   0.0|         0|      NULL|   0|        0|    25.9|      5.2|   32.0|          1012.7|      63.2|       8.7|           0.0|        0.0|      0|      NULL|    Partially cloudy|partly-cloudy-night|48698099999,48679...|2022-01-01 00:00:00|\n",
      "|Singapore|2022-01-01 01:00:00|24.3|     24.3|23.9|   97.64| 3.473|       100|      rain|   0|        0|    25.6|      8.5|  137.0|          1012.1|      88.0|       9.6|           0.0|        0.0|      0|      NULL|Rain, Partially c...|               rain|48698099999,48679...|2022-01-01 01:00:00|\n",
      "|Singapore|2022-01-01 02:00:00|23.9|     23.9|22.4|   91.01| 4.341|       100|      rain|   0|        0|    27.7|     13.9|   91.0|          1011.1|      90.3|       8.1|           0.0|        0.0|      0|      NULL|      Rain, Overcast|               rain|48698099999,48679...|2022-01-01 02:00:00|\n",
      "|Singapore|2022-01-01 03:00:00|24.0|     24.0|23.0|   94.06| 0.868|       100|      rain|   0|        0|    21.2|      6.7|   63.0|          1011.0|      88.0|       9.5|           0.0|        0.0|      0|      NULL|Rain, Partially c...|               rain|48698099999,48679...|2022-01-01 03:00:00|\n",
      "|Singapore|2022-01-01 04:00:00|23.9|     23.9|22.9|   94.24| 0.868|       100|      rain|   0|        0|    20.5|      3.0|  357.0|          1010.0|      91.8|       9.1|           0.0|        0.0|      0|      NULL|      Rain, Overcast|               rain|48698099999,48679...|2022-01-01 04:00:00|\n",
      "+---------+-------------------+----+---------+----+--------+------+----------+----------+----+---------+--------+---------+-------+----------------+----------+----------+--------------+-----------+-------+----------+--------------------+-------------------+--------------------+-------------------+\n",
      "only showing top 5 rows\n",
      "\n"
     ]
    }
   ],
   "source": [
    "# Filter for rows with year 2022 or 2023.\n",
    "df_weather_filtered = df_weather.filter(\n",
    "    (F.year(\"parsed_datetime\") >= 2022) &\n",
    "    (F.year(\"parsed_datetime\") <= 2023)\n",
    ")\n",
    "\n",
    "print(\"After filtering Weather data (2022-2023):\", df_weather_filtered.count(), \"rows\")\n",
    "df_weather_filtered.show(5)"
   ]
  },
  {
   "cell_type": "markdown",
   "id": "e041b5e6",
   "metadata": {},
   "source": [
    "# Split Date/Time & Clean Data"
   ]
  },
  {
   "cell_type": "code",
   "execution_count": null,
   "id": "09519ab9",
   "metadata": {},
   "outputs": [
    {
     "name": "stdout",
     "output_type": "stream",
     "text": [
      "Row Count: 17520 rows\n",
      "+-----+-----+----+----+-------+----------+--------+\n",
      "|north|south|east|west|central|  psi_date|psi_hour|\n",
      "+-----+-----+----+----+-------+----------+--------+\n",
      "|   29|   27|  32|  17|     29|2022-01-01|       0|\n",
      "|   30|   25|  32|  18|     29|2022-01-01|       1|\n",
      "|   30|   24|  31|  19|     30|2022-01-01|       2|\n",
      "|   30|   23|  30|  19|     31|2022-01-01|       3|\n",
      "|   31|   23|  29|  20|     30|2022-01-01|       4|\n",
      "+-----+-----+----+----+-------+----------+--------+\n",
      "only showing top 5 rows\n",
      "\n"
     ]
    }
   ],
   "source": [
    "# for psi, split into date/hour\n",
    "\n",
    "df_psi_filtered = (\n",
    "    df_psi_filtered\n",
    "    .withColumn(\"psi_date\", F.to_date(\"parsed_datetime\"))\n",
    "    .withColumn(\"psi_hour\", F.hour(\"parsed_datetime\"))\n",
    "    .drop(\"24hr_psi\")         # The original string date-time column\n",
    "    .drop(\"parsed_datetime\")  # If not needed anymore\n",
    ")\n",
    "print(\"Row Count:\", df_psi_filtered.count(), \"rows\")\n",
    "df_psi_filtered.show(5)\n",
    "\n"
   ]
  },
  {
   "cell_type": "code",
   "execution_count": null,
   "id": "e22d650f",
   "metadata": {},
   "outputs": [
    {
     "name": "stdout",
     "output_type": "stream",
     "text": [
      "Row Count: 18504 rows\n",
      "+---------+----+---------+----+--------+------+----------+----------+----+---------+--------+---------+-------+----------------+----------+----------+--------------+-----------+-------+----------+--------------------+-------------------+--------------------+------------+------------+\n",
      "|     name|temp|feelslike| dew|humidity|precip|precipprob|preciptype|snow|snowdepth|windgust|windspeed|winddir|sealevelpressure|cloudcover|visibility|solarradiation|solarenergy|uvindex|severerisk|          conditions|               icon|            stations|weather_date|weather_hour|\n",
      "+---------+----+---------+----+--------+------+----------+----------+----+---------+--------+---------+-------+----------------+----------+----------+--------------+-----------+-------+----------+--------------------+-------------------+--------------------+------------+------------+\n",
      "|Singapore|25.0|     25.0|24.0|   94.03|   0.0|         0|      NULL|   0|        0|    25.9|      5.2|   32.0|          1012.7|      63.2|       8.7|           0.0|        0.0|      0|      NULL|    Partially cloudy|partly-cloudy-night|48698099999,48679...|  2022-01-01|           0|\n",
      "|Singapore|24.3|     24.3|23.9|   97.64| 3.473|       100|      rain|   0|        0|    25.6|      8.5|  137.0|          1012.1|      88.0|       9.6|           0.0|        0.0|      0|      NULL|Rain, Partially c...|               rain|48698099999,48679...|  2022-01-01|           1|\n",
      "|Singapore|23.9|     23.9|22.4|   91.01| 4.341|       100|      rain|   0|        0|    27.7|     13.9|   91.0|          1011.1|      90.3|       8.1|           0.0|        0.0|      0|      NULL|      Rain, Overcast|               rain|48698099999,48679...|  2022-01-01|           2|\n",
      "|Singapore|24.0|     24.0|23.0|   94.06| 0.868|       100|      rain|   0|        0|    21.2|      6.7|   63.0|          1011.0|      88.0|       9.5|           0.0|        0.0|      0|      NULL|Rain, Partially c...|               rain|48698099999,48679...|  2022-01-01|           3|\n",
      "|Singapore|23.9|     23.9|22.9|   94.24| 0.868|       100|      rain|   0|        0|    20.5|      3.0|  357.0|          1010.0|      91.8|       9.1|           0.0|        0.0|      0|      NULL|      Rain, Overcast|               rain|48698099999,48679...|  2022-01-01|           4|\n",
      "+---------+----+---------+----+--------+------+----------+----------+----+---------+--------+---------+-------+----------------+----------+----------+--------------+-----------+-------+----------+--------------------+-------------------+--------------------+------------+------------+\n",
      "only showing top 5 rows\n",
      "\n"
     ]
    }
   ],
   "source": [
    "# for weather, split into date/hour\n",
    "\n",
    "df_weather_filtered = (\n",
    "    df_weather_filtered\n",
    "    .withColumn(\"weather_date\", F.to_date(\"parsed_datetime\"))\n",
    "    .withColumn(\"weather_hour\", F.hour(\"parsed_datetime\"))\n",
    "    .drop(\"datetime\")\n",
    "    .drop(\"parsed_datetime\")\n",
    ")\n",
    "print(\"Row Count:\", df_weather_filtered.count(), \"rows\")\n",
    "df_weather_filtered.show(5)\n",
    "\n"
   ]
  },
  {
   "cell_type": "markdown",
   "id": "d5429b5e",
   "metadata": {},
   "source": [
    "# Merge on Common Keys"
   ]
  },
  {
   "cell_type": "code",
   "execution_count": 15,
   "id": "134940f7",
   "metadata": {},
   "outputs": [
    {
     "name": "stdout",
     "output_type": "stream",
     "text": [
      "Row Count: 18504 rows\n"
     ]
    },
    {
     "name": "stderr",
     "output_type": "stream",
     "text": [
      "25/07/27 06:55:38 WARN SparkStringUtils: Truncated the string representation of a plan since it was too large. This behavior can be adjusted by setting 'spark.sql.debug.maxToStringFields'.\n"
     ]
    },
    {
     "name": "stdout",
     "output_type": "stream",
     "text": [
      "+-----+-----+----+----+-------+----------+--------+---------+----+---------+----+--------+------+----------+----------+----+---------+--------+---------+-------+----------------+----------+----------+--------------+-----------+-------+----------+--------------------+-------------------+--------------------+------------+------------+\n",
      "|north|south|east|west|central|  psi_date|psi_hour|     name|temp|feelslike| dew|humidity|precip|precipprob|preciptype|snow|snowdepth|windgust|windspeed|winddir|sealevelpressure|cloudcover|visibility|solarradiation|solarenergy|uvindex|severerisk|          conditions|               icon|            stations|weather_date|weather_hour|\n",
      "+-----+-----+----+----+-------+----------+--------+---------+----+---------+----+--------+------+----------+----------+----+---------+--------+---------+-------+----------------+----------+----------+--------------+-----------+-------+----------+--------------------+-------------------+--------------------+------------+------------+\n",
      "|   29|   27|  32|  17|     29|2022-01-01|       0|Singapore|25.0|     25.0|24.0|   94.03|   0.0|         0|      NULL|   0|        0|    25.9|      5.2|   32.0|          1012.7|      63.2|       8.7|           0.0|        0.0|      0|      NULL|    Partially cloudy|partly-cloudy-night|48698099999,48679...|  2022-01-01|           0|\n",
      "|   30|   25|  32|  18|     29|2022-01-01|       1|Singapore|24.3|     24.3|23.9|   97.64| 3.473|       100|      rain|   0|        0|    25.6|      8.5|  137.0|          1012.1|      88.0|       9.6|           0.0|        0.0|      0|      NULL|Rain, Partially c...|               rain|48698099999,48679...|  2022-01-01|           1|\n",
      "|   30|   24|  31|  19|     30|2022-01-01|       2|Singapore|23.9|     23.9|22.4|   91.01| 4.341|       100|      rain|   0|        0|    27.7|     13.9|   91.0|          1011.1|      90.3|       8.1|           0.0|        0.0|      0|      NULL|      Rain, Overcast|               rain|48698099999,48679...|  2022-01-01|           2|\n",
      "|   30|   23|  30|  19|     31|2022-01-01|       3|Singapore|24.0|     24.0|23.0|   94.06| 0.868|       100|      rain|   0|        0|    21.2|      6.7|   63.0|          1011.0|      88.0|       9.5|           0.0|        0.0|      0|      NULL|Rain, Partially c...|               rain|48698099999,48679...|  2022-01-01|           3|\n",
      "|   31|   23|  29|  20|     30|2022-01-01|       4|Singapore|23.9|     23.9|22.9|   94.24| 0.868|       100|      rain|   0|        0|    20.5|      3.0|  357.0|          1010.0|      91.8|       9.1|           0.0|        0.0|      0|      NULL|      Rain, Overcast|               rain|48698099999,48679...|  2022-01-01|           4|\n",
      "+-----+-----+----+----+-------+----------+--------+---------+----+---------+----+--------+------+----------+----------+----+---------+--------+---------+-------+----------------+----------+----------+--------------+-----------+-------+----------+--------------------+-------------------+--------------------+------------+------------+\n",
      "only showing top 5 rows\n",
      "\n",
      "root\n",
      " |-- north: integer (nullable = true)\n",
      " |-- south: integer (nullable = true)\n",
      " |-- east: integer (nullable = true)\n",
      " |-- west: integer (nullable = true)\n",
      " |-- central: integer (nullable = true)\n",
      " |-- psi_date: date (nullable = true)\n",
      " |-- psi_hour: integer (nullable = true)\n",
      " |-- name: string (nullable = true)\n",
      " |-- temp: double (nullable = true)\n",
      " |-- feelslike: double (nullable = true)\n",
      " |-- dew: double (nullable = true)\n",
      " |-- humidity: double (nullable = true)\n",
      " |-- precip: double (nullable = true)\n",
      " |-- precipprob: integer (nullable = true)\n",
      " |-- preciptype: string (nullable = true)\n",
      " |-- snow: integer (nullable = true)\n",
      " |-- snowdepth: integer (nullable = true)\n",
      " |-- windgust: double (nullable = true)\n",
      " |-- windspeed: double (nullable = true)\n",
      " |-- winddir: double (nullable = true)\n",
      " |-- sealevelpressure: double (nullable = true)\n",
      " |-- cloudcover: double (nullable = true)\n",
      " |-- visibility: double (nullable = true)\n",
      " |-- solarradiation: double (nullable = true)\n",
      " |-- solarenergy: double (nullable = true)\n",
      " |-- uvindex: integer (nullable = true)\n",
      " |-- severerisk: integer (nullable = true)\n",
      " |-- conditions: string (nullable = true)\n",
      " |-- icon: string (nullable = true)\n",
      " |-- stations: string (nullable = true)\n",
      " |-- weather_date: date (nullable = true)\n",
      " |-- weather_hour: integer (nullable = true)\n",
      "\n"
     ]
    }
   ],
   "source": [
    "df_filtered_merged = df_psi_filtered.join(\n",
    "    df_weather_filtered,\n",
    "    (df_psi_filtered.psi_date == df_weather_filtered.weather_date) &\n",
    "    (df_psi_filtered.psi_hour == df_weather_filtered.weather_hour),\n",
    "    how=\"inner\"  # or \"left\", \"right\", etc.\n",
    ")\n",
    "print(\"Row Count:\", df_filtered_merged.count(), \"rows\")\n",
    "df_filtered_merged.show(5)\n",
    "df_filtered_merged.printSchema()\n"
   ]
  },
  {
   "cell_type": "markdown",
   "id": "3b899785",
   "metadata": {},
   "source": [
    "# Save Merged Data to HDFS"
   ]
  },
  {
   "cell_type": "code",
   "execution_count": 16,
   "id": "cede54ef",
   "metadata": {},
   "outputs": [
    {
     "name": "stderr",
     "output_type": "stream",
     "text": [
      "                                                                                \r"
     ]
    }
   ],
   "source": [
    "hdfs_output_path = \"hdfs:///data/psi_weather_merged.parquet\"\n",
    "\n",
    "df_filtered_merged.write.mode(\"overwrite\").parquet(hdfs_output_path)\n"
   ]
  },
  {
   "cell_type": "code",
   "execution_count": 17,
   "id": "33bd0c20",
   "metadata": {},
   "outputs": [
    {
     "name": "stdout",
     "output_type": "stream",
     "text": [
      "Row Count: 18504 rows\n",
      "+-----+-----+----+----+-------+----------+--------+---------+----+---------+----+--------+------+----------+----------+----+---------+--------+---------+-------+----------------+----------+----------+--------------+-----------+-------+----------+--------------------+-------------------+--------------------+------------+------------+\n",
      "|north|south|east|west|central|  psi_date|psi_hour|     name|temp|feelslike| dew|humidity|precip|precipprob|preciptype|snow|snowdepth|windgust|windspeed|winddir|sealevelpressure|cloudcover|visibility|solarradiation|solarenergy|uvindex|severerisk|          conditions|               icon|            stations|weather_date|weather_hour|\n",
      "+-----+-----+----+----+-------+----------+--------+---------+----+---------+----+--------+------+----------+----------+----+---------+--------+---------+-------+----------------+----------+----------+--------------+-----------+-------+----------+--------------------+-------------------+--------------------+------------+------------+\n",
      "|   29|   27|  32|  17|     29|2022-01-01|       0|Singapore|25.0|     25.0|24.0|   94.03|   0.0|         0|      NULL|   0|        0|    25.9|      5.2|   32.0|          1012.7|      63.2|       8.7|           0.0|        0.0|      0|      NULL|    Partially cloudy|partly-cloudy-night|48698099999,48679...|  2022-01-01|           0|\n",
      "|   30|   25|  32|  18|     29|2022-01-01|       1|Singapore|24.3|     24.3|23.9|   97.64| 3.473|       100|      rain|   0|        0|    25.6|      8.5|  137.0|          1012.1|      88.0|       9.6|           0.0|        0.0|      0|      NULL|Rain, Partially c...|               rain|48698099999,48679...|  2022-01-01|           1|\n",
      "|   30|   24|  31|  19|     30|2022-01-01|       2|Singapore|23.9|     23.9|22.4|   91.01| 4.341|       100|      rain|   0|        0|    27.7|     13.9|   91.0|          1011.1|      90.3|       8.1|           0.0|        0.0|      0|      NULL|      Rain, Overcast|               rain|48698099999,48679...|  2022-01-01|           2|\n",
      "|   30|   23|  30|  19|     31|2022-01-01|       3|Singapore|24.0|     24.0|23.0|   94.06| 0.868|       100|      rain|   0|        0|    21.2|      6.7|   63.0|          1011.0|      88.0|       9.5|           0.0|        0.0|      0|      NULL|Rain, Partially c...|               rain|48698099999,48679...|  2022-01-01|           3|\n",
      "|   31|   23|  29|  20|     30|2022-01-01|       4|Singapore|23.9|     23.9|22.9|   94.24| 0.868|       100|      rain|   0|        0|    20.5|      3.0|  357.0|          1010.0|      91.8|       9.1|           0.0|        0.0|      0|      NULL|      Rain, Overcast|               rain|48698099999,48679...|  2022-01-01|           4|\n",
      "+-----+-----+----+----+-------+----------+--------+---------+----+---------+----+--------+------+----------+----------+----+---------+--------+---------+-------+----------------+----------+----------+--------------+-----------+-------+----------+--------------------+-------------------+--------------------+------------+------------+\n",
      "only showing top 5 rows\n",
      "\n"
     ]
    }
   ],
   "source": [
    "# verify by listing directory\n",
    "# Read the Parquet file from HDFS\n",
    "df_hdfs = spark.read.parquet(\"hdfs:///data/psi_weather_merged.parquet\")\n",
    "\n",
    "print(\"Row Count:\", df_filtered_merged.count(), \"rows\")\n",
    "\n",
    "# Show the first few rows\n",
    "df_hdfs.show(5)\n",
    "\n"
   ]
  }
 ],
 "metadata": {
  "kernelspec": {
   "display_name": "Python 3",
   "language": "python",
   "name": "python3"
  },
  "language_info": {
   "codemirror_mode": {
    "name": "ipython",
    "version": 3
   },
   "file_extension": ".py",
   "mimetype": "text/x-python",
   "name": "python",
   "nbconvert_exporter": "python",
   "pygments_lexer": "ipython3",
   "version": "3.10.12"
  }
 },
 "nbformat": 4,
 "nbformat_minor": 5
}
