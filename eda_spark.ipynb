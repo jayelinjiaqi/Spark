{
 "cells": [
  {
   "cell_type": "code",
   "execution_count": 1,
   "id": "ebb67864",
   "metadata": {},
   "outputs": [],
   "source": [
    "from pyspark.sql import SparkSession\n",
    "from pyspark.ml.feature import StringIndexer, OneHotEncoder, VectorAssembler\n",
    "from pyspark.ml.regression import GBTRegressor\n",
    "from pyspark.sql.types import IntegerType\n",
    "from pyspark.sql import functions as F\n",
    "from pyspark.ml import Pipeline\n",
    "import matplotlib.pyplot as plt\n",
    "import seaborn as sns\n",
    "import os\n",
    "import re\n"
   ]
  },
  {
   "cell_type": "code",
   "execution_count": 2,
   "id": "2e5f9e1c",
   "metadata": {},
   "outputs": [
    {
     "ename": "NameError",
     "evalue": "name 'spark' is not defined",
     "output_type": "error",
     "traceback": [
      "\u001b[0;31m---------------------------------------------------------------------------\u001b[0m",
      "\u001b[0;31mNameError\u001b[0m                                 Traceback (most recent call last)",
      "Cell \u001b[0;32mIn[2], line 1\u001b[0m\n\u001b[0;32m----> 1\u001b[0m \u001b[43mspark\u001b[49m\u001b[38;5;241m.\u001b[39mstop()\n",
      "\u001b[0;31mNameError\u001b[0m: name 'spark' is not defined"
     ]
    }
   ],
   "source": [
    "spark.stop()"
   ]
  },
  {
   "cell_type": "code",
   "execution_count": 3,
   "id": "7d631356",
   "metadata": {},
   "outputs": [
    {
     "name": "stderr",
     "output_type": "stream",
     "text": [
      "Setting default log level to \"WARN\".\n",
      "To adjust logging level use sc.setLogLevel(newLevel). For SparkR, use setLogLevel(newLevel).\n",
      "25/08/15 08:54:08 WARN NativeCodeLoader: Unable to load native-hadoop library for your platform... using builtin-java classes where applicable\n"
     ]
    },
    {
     "name": "stdout",
     "output_type": "stream",
     "text": [
      "Spark started successfully.\n"
     ]
    }
   ],
   "source": [
    "spark = SparkSession.builder \\\n",
    "    .appName(\"HDB\") \\\n",
    "    .master(\"local[*]\") \\\n",
    "    .getOrCreate()\n",
    "\n",
    "print(\"Spark started successfully.\")"
   ]
  },
  {
   "cell_type": "code",
   "execution_count": 4,
   "id": "4cb827b1",
   "metadata": {},
   "outputs": [
    {
     "name": "stderr",
     "output_type": "stream",
     "text": [
      "                                                                                \r"
     ]
    },
    {
     "name": "stdout",
     "output_type": "stream",
     "text": [
      "HDB Data Row Count: 213666 rows\n",
      "+-------------------+----------+---------+-----+-----------------+------------+--------------+--------------+-------------------+------------------+------------+\n",
      "|              month|      town|flat_type|block|      street_name|storey_range|floor_area_sqm|    flat_model|lease_commence_date|   remaining_lease|resale_price|\n",
      "+-------------------+----------+---------+-----+-----------------+------------+--------------+--------------+-------------------+------------------+------------+\n",
      "|2017-01-01 00:00:00|ANG MO KIO|   2 ROOM|  406|ANG MO KIO AVE 10|    10 TO 12|          44.0|      Improved|               1979|61 years 04 months|    232000.0|\n",
      "|2017-01-01 00:00:00|ANG MO KIO|   3 ROOM|  108| ANG MO KIO AVE 4|    01 TO 03|          67.0|New Generation|               1978|60 years 07 months|    250000.0|\n",
      "|2017-01-01 00:00:00|ANG MO KIO|   3 ROOM|  602| ANG MO KIO AVE 5|    01 TO 03|          67.0|New Generation|               1980|62 years 05 months|    262000.0|\n",
      "|2017-01-01 00:00:00|ANG MO KIO|   3 ROOM|  465|ANG MO KIO AVE 10|    04 TO 06|          68.0|New Generation|               1980| 62 years 01 month|    265000.0|\n",
      "|2017-01-01 00:00:00|ANG MO KIO|   3 ROOM|  601| ANG MO KIO AVE 5|    01 TO 03|          67.0|New Generation|               1980|62 years 05 months|    265000.0|\n",
      "+-------------------+----------+---------+-----+-----------------+------------+--------------+--------------+-------------------+------------------+------------+\n",
      "only showing top 5 rows\n",
      "\n"
     ]
    }
   ],
   "source": [
    "# -------------------------\n",
    "# Read CSV\n",
    "# -------------------------\n",
    "\n",
    "path = \"file:///home/user/data/HDB.csv\" \n",
    "\n",
    "df = spark.read.csv(\n",
    "    path,\n",
    "    header=True,         # first row contains column names\n",
    "    inferSchema=True     # attempts to infer column data types\n",
    ")\n",
    "\n",
    "print(\"HDB Data Row Count:\", df.count(), \"rows\")\n",
    "df.show(5)"
   ]
  },
  {
   "cell_type": "code",
   "execution_count": null,
   "id": "33d31d6f",
   "metadata": {},
   "outputs": [
    {
     "name": "stderr",
     "output_type": "stream",
     "text": [
      "                                                                                \r"
     ]
    },
    {
     "name": "stdout",
     "output_type": "stream",
     "text": [
      "+-----+----+---------+-----+-----------+------------+--------------+----------+-------------------+---------------+------------+\n",
      "|month|town|flat_type|block|street_name|storey_range|floor_area_sqm|flat_model|lease_commence_date|remaining_lease|resale_price|\n",
      "+-----+----+---------+-----+-----------+------------+--------------+----------+-------------------+---------------+------------+\n",
      "|    0|   0|        0|    0|          0|           0|             0|         0|                  0|              0|           0|\n",
      "+-----+----+---------+-----+-----------+------------+--------------+----------+-------------------+---------------+------------+\n",
      "\n"
     ]
    }
   ],
   "source": [
    "# -------------------------\n",
    "# Check for missing values (null counts per column)\n",
    "# -------------------------\n",
    "\n",
    "df.select([F.count(F.when(F.col(c).isNull(), c)).alias(c) for c in df.columns]).show()"
   ]
  },
  {
   "cell_type": "code",
   "execution_count": null,
   "id": "16091505",
   "metadata": {},
   "outputs": [
    {
     "name": "stderr",
     "output_type": "stream",
     "text": [
      "[Stage 11:>                                                         (0 + 1) / 1]\r"
     ]
    },
    {
     "name": "stdout",
     "output_type": "stream",
     "text": [
      "+-------+----------+----------------+------------------+------------+------------+-----------------+----------+-------------------+------------------+------------------+\n",
      "|summary|      town|       flat_type|             block| street_name|storey_range|   floor_area_sqm|flat_model|lease_commence_date|   remaining_lease|      resale_price|\n",
      "+-------+----------+----------------+------------------+------------+------------+-----------------+----------+-------------------+------------------+------------------+\n",
      "|  count|    213666|          213666|            213666|      213666|      213666|           213666|    213666|             213666|            213666|            213666|\n",
      "|   mean|      NULL|            NULL|345.50626826084255|        NULL|        NULL| 96.8363726563889|      NULL| 1996.3739574850467|              NULL|519222.49155027006|\n",
      "| stddev|      NULL|            NULL|255.01554471137214|        NULL|        NULL|24.03127354294156|      NULL| 14.256916675138974|              NULL| 183612.9144907212|\n",
      "|    min|ANG MO KIO|          1 ROOM|                 1|ADMIRALTY DR|    01 TO 03|             31.0|    2-room|               1966| 40 years 01 month|          140000.0|\n",
      "|    25%|      NULL|            NULL|             123.0|        NULL|        NULL|             82.0|      NULL|               1985|              NULL|          382000.0|\n",
      "|    50%|      NULL|            NULL|             302.0|        NULL|        NULL|             93.0|      NULL|               1996|              NULL|          488000.0|\n",
      "|    75%|      NULL|            NULL|             534.0|        NULL|        NULL|            112.0|      NULL|               2011|              NULL|          622000.0|\n",
      "|    max|    YISHUN|MULTI-GENERATION|                9B|     ZION RD|    49 TO 51|            366.7|   Type S2|               2022|97 years 09 months|         1658888.0|\n",
      "+-------+----------+----------------+------------------+------------+------------+-----------------+----------+-------------------+------------------+------------------+\n",
      "\n"
     ]
    },
    {
     "name": "stderr",
     "output_type": "stream",
     "text": [
      "                                                                                \r"
     ]
    }
   ],
   "source": [
    "# -------------------------\n",
    "# Describe all columns, including strings\n",
    "# -------------------------\n",
    "df.summary().show()"
   ]
  },
  {
   "cell_type": "code",
   "execution_count": null,
   "id": "e01717f3",
   "metadata": {},
   "outputs": [
    {
     "name": "stderr",
     "output_type": "stream",
     "text": [
      "[Stage 12:=========>                                                (1 + 5) / 6]\r"
     ]
    },
    {
     "name": "stdout",
     "output_type": "stream",
     "text": [
      "Shape: (213666, 11)\n"
     ]
    },
    {
     "name": "stderr",
     "output_type": "stream",
     "text": [
      "                                                                                \r"
     ]
    }
   ],
   "source": [
    "# -------------------------\n",
    "# No. of rows and columns\n",
    "# -------------------------\n",
    "rows = df.count()\n",
    "cols = len(df.columns)\n",
    "print(f\"Shape: ({rows}, {cols})\")"
   ]
  },
  {
   "cell_type": "code",
   "execution_count": null,
   "id": "d525db0a",
   "metadata": {},
   "outputs": [
    {
     "name": "stdout",
     "output_type": "stream",
     "text": [
      "[('month', 'timestamp'), ('town', 'string'), ('flat_type', 'string'), ('block', 'string'), ('street_name', 'string'), ('storey_range', 'string'), ('floor_area_sqm', 'double'), ('flat_model', 'string'), ('lease_commence_date', 'int'), ('remaining_lease', 'string'), ('resale_price', 'double')]\n"
     ]
    }
   ],
   "source": [
    "# -------------------------\n",
    "# Data Types\n",
    "# -------------------------\n",
    "print(df.dtypes)  # List of tuples (colName, dataType)\n",
    "\n",
    "# Extract numerical year and month from 'month' string (eg. 2017-01) and convert to transaction_year and transaction_month\n",
    "# Extract numerical remaining lease year and month from 'remaining_lease' (eg. )"
   ]
  },
  {
   "cell_type": "code",
   "execution_count": null,
   "id": "3bbcdf9e",
   "metadata": {},
   "outputs": [
    {
     "name": "stderr",
     "output_type": "stream",
     "text": [
      "                                                                                \r"
     ]
    },
    {
     "name": "stdout",
     "output_type": "stream",
     "text": [
      "Unique values in 'flat_model' (21 unique values):\n",
      "['Apartment', 'Premium Maisonette', 'Improved', 'Type S2', 'New Generation', 'Improved-Maisonette', 'Model A-Maisonette', 'Maisonette', 'Multi Generation', 'Model A', 'DBSS', 'Simplified', 'Terrace', 'Adjoined flat', 'Type S1', 'Standard', 'Premium Apartment', 'Model A2', 'Premium Apartment Loft', '2-room', '3Gen']\n",
      "\n",
      "Unique values in 'flat_type' (7 unique values):\n",
      "['3 ROOM', '1 ROOM', '4 ROOM', '2 ROOM', 'EXECUTIVE', '5 ROOM', 'MULTI-GENERATION']\n",
      "\n"
     ]
    },
    {
     "name": "stderr",
     "output_type": "stream",
     "text": [
      "[Stage 21:>                                                         (0 + 6) / 6]\r"
     ]
    },
    {
     "name": "stdout",
     "output_type": "stream",
     "text": [
      "Unique values in 'storey_range' (17 unique values):\n",
      "['43 TO 45', '37 TO 39', '10 TO 12', '04 TO 06', '40 TO 42', '16 TO 18', '19 TO 21', '34 TO 36', '31 TO 33', '13 TO 15', '46 TO 48', '22 TO 24', '25 TO 27', '07 TO 09', '01 TO 03', '28 TO 30', '49 TO 51']\n",
      "\n"
     ]
    },
    {
     "name": "stderr",
     "output_type": "stream",
     "text": [
      "                                                                                \r"
     ]
    }
   ],
   "source": [
    "# -------------------------\n",
    "# List unique values for \"flat_model\", \"flat_type\", \"storey_range\"\n",
    "# -------------------------\n",
    "\n",
    "columns_to_check = [\"flat_model\", \"flat_type\", \"storey_range\"]\n",
    "\n",
    "for column in columns_to_check:\n",
    "    uniques = df.select(column).distinct().collect()\n",
    "    unique_values = [row[column] for row in uniques]\n",
    "    print(f\"Unique values in '{column}' ({len(unique_values)} unique values):\")\n",
    "    print(unique_values)\n",
    "    print()\n",
    "\n",
    "# Map 'flat_type' and 'storey_range'\n",
    "# One-hot encoding on 'town' and 'flat_model'"
   ]
  },
  {
   "cell_type": "code",
   "execution_count": 70,
   "id": "8fbfabf2",
   "metadata": {},
   "outputs": [
    {
     "name": "stderr",
     "output_type": "stream",
     "text": [
      "                                                                                \r"
     ]
    },
    {
     "data": {
      "image/png": "[encoded data removed]",
      "text/plain": [
       "<Figure size 1000x400 with 1 Axes>"
      ]
     },
     "metadata": {},
     "output_type": "display_data"
    }
   ],
   "source": [
    "# -------------------------\n",
    "# No. of Observations of Each Flat Type\n",
    "# -------------------------\n",
    "\n",
    "# Group and count by flat_type\n",
    "flat_type_counts = df.groupBy(\"flat_type\").count().orderBy(\"flat_type\", ascending=False)\n",
    "\n",
    "# Convert to Pandas for plotting\n",
    "flat_type_pd = flat_type_counts.toPandas()\n",
    "\n",
    "# Plot\n",
    "plt.figure(figsize=(10, 4))\n",
    "ax = sns.barplot(\n",
    "    x=\"flat_type\",\n",
    "    y=\"count\",\n",
    "    data=flat_type_pd,\n",
    "    color=\"salmon\"\n",
    ")\n",
    "\n",
    "plt.title(\"Flat Type\")\n",
    "plt.xlabel(\"Flat Type\")\n",
    "plt.ylabel(\"No. of Samples / Observations\")\n",
    "\n",
    "# Add value labels\n",
    "for p in ax.patches:\n",
    "    height = p.get_height()\n",
    "    ax.text(\n",
    "        p.get_x() + p.get_width() / 2,\n",
    "        height + 50,  # adjust spacing above bars\n",
    "        f\"{int(height)}\",\n",
    "        ha=\"center\"\n",
    "    )\n",
    "\n",
    "plt.tight_layout()\n",
    "plt.show()\n",
    "\n",
    "# Observations\n",
    "# Larger representation of 4 ROOM in the dataset, followed by 5 ROOM and 3 ROOM\n"
   ]
  },
  {
   "cell_type": "code",
   "execution_count": 5,
   "id": "c005972b",
   "metadata": {},
   "outputs": [
    {
     "name": "stdout",
     "output_type": "stream",
     "text": [
      "+----------+---------+-----------------+------------+--------------+--------------+------------+----------------+-----------------+--------------------+\n",
      "|      town|flat_type|      street_name|storey_range|floor_area_sqm|    flat_model|resale_price|transaction_year|transaction_month|remaining_lease_year|\n",
      "+----------+---------+-----------------+------------+--------------+--------------+------------+----------------+-----------------+--------------------+\n",
      "|ANG MO KIO|        2|ANG MO KIO AVE 10|           4|          44.0|      Improved|    232000.0|            2017|                1|                  61|\n",
      "|ANG MO KIO|        3| ANG MO KIO AVE 4|           1|          67.0|New Generation|    250000.0|            2017|                1|                  60|\n",
      "|ANG MO KIO|        3| ANG MO KIO AVE 5|           1|          67.0|New Generation|    262000.0|            2017|                1|                  62|\n",
      "|ANG MO KIO|        3|ANG MO KIO AVE 10|           2|          68.0|New Generation|    265000.0|            2017|                1|                  62|\n",
      "|ANG MO KIO|        3| ANG MO KIO AVE 5|           1|          67.0|New Generation|    265000.0|            2017|                1|                  62|\n",
      "+----------+---------+-----------------+------------+--------------+--------------+------------+----------------+-----------------+--------------------+\n",
      "only showing top 5 rows\n",
      "\n"
     ]
    }
   ],
   "source": [
    "\n",
    "# -------------------------\n",
    "# Mapping: flat_type\n",
    "# -------------------------\n",
    "flat_type_mapping_expr = (\n",
    "    F.when(F.col(\"flat_type\") == \"1 ROOM\", 1)\n",
    "     .when(F.col(\"flat_type\") == \"2 ROOM\", 2)\n",
    "     .when(F.col(\"flat_type\") == \"3 ROOM\", 3)\n",
    "     .when(F.col(\"flat_type\") == \"4 ROOM\", 4)\n",
    "     .when(F.col(\"flat_type\") == \"5 ROOM\", 5)\n",
    "     .when(F.col(\"flat_type\") == \"EXECUTIVE\", 6)\n",
    "     .when(F.col(\"flat_type\") == \"MULTI-GENERATION\", 7)\n",
    "     .otherwise(None)\n",
    ")\n",
    "\n",
    "# -------------------------\n",
    "# Mapping: storey_range\n",
    "# -------------------------\n",
    "storey_range_mapping_expr = (\n",
    "    F.when(F.col(\"storey_range\") == \"01 TO 03\", 1)\n",
    "     .when(F.col(\"storey_range\") == \"04 TO 06\", 2)\n",
    "     .when(F.col(\"storey_range\") == \"07 TO 09\", 3)\n",
    "     .when(F.col(\"storey_range\") == \"10 TO 12\", 4)\n",
    "     .when(F.col(\"storey_range\") == \"13 TO 15\", 5)\n",
    "     .when(F.col(\"storey_range\") == \"16 TO 18\", 6)\n",
    "     .when(F.col(\"storey_range\") == \"19 TO 21\", 7)\n",
    "     .when(F.col(\"storey_range\") == \"22 TO 24\", 8)\n",
    "     .when(F.col(\"storey_range\") == \"25 TO 27\", 9)\n",
    "     .when(F.col(\"storey_range\") == \"28 TO 30\", 10)\n",
    "     .when(F.col(\"storey_range\") == \"31 TO 33\", 11)\n",
    "     .when(F.col(\"storey_range\") == \"34 TO 36\", 12)\n",
    "     .when(F.col(\"storey_range\") == \"37 TO 39\", 13)\n",
    "     .when(F.col(\"storey_range\") == \"40 TO 42\", 14)\n",
    "     .when(F.col(\"storey_range\") == \"43 TO 45\", 15)\n",
    "     .when(F.col(\"storey_range\") == \"46 TO 48\", 16)\n",
    "     .when(F.col(\"storey_range\") == \"49 TO 51\", 17)\n",
    "     .otherwise(None)\n",
    ")\n",
    "\n",
    "# -------------------------\n",
    "# Extract transaction year & month from 'month' column\n",
    "# Example 'month' format: '12 years 5 months'\n",
    "# -------------------------\n",
    "extract_transaction_year = F.year(F.to_date(F.col(\"month\"), \"yyyy-MM\"))\n",
    "extract_transaction_month = F.month(F.to_date(F.col(\"month\"), \"yyyy-MM\"))\n",
    "extract_remaining_lease_year = F.regexp_extract(F.col(\"remaining_lease\"), r\"(\\d+)\\s+years?\", 1).cast(IntegerType())\n",
    "\n",
    "# -------------------------\n",
    "# Apply transformations\n",
    "# -------------------------\n",
    "df = df.withColumn(\"flat_type\", flat_type_mapping_expr) \\\n",
    "       .withColumn(\"storey_range\", storey_range_mapping_expr) \\\n",
    "       .withColumn(\"transaction_year\", extract_transaction_year) \\\n",
    "       .withColumn(\"transaction_month\", extract_transaction_month) \\\n",
    "       .withColumn(\"remaining_lease_year\", extract_remaining_lease_year)\n",
    "\n",
    "df = df.drop(\"month\", \"block\", \"lease_commence_date\", \"remaining_lease\")\n",
    "df.show(5)"
   ]
  },
  {
   "cell_type": "code",
   "execution_count": 10,
   "id": "f6098727",
   "metadata": {},
   "outputs": [
    {
     "ename": "ConnectionRefusedError",
     "evalue": "[Errno 111] Connection refused",
     "output_type": "error",
     "traceback": [
      "\u001b[0;31m---------------------------------------------------------------------------\u001b[0m",
      "\u001b[0;31mConnectionRefusedError\u001b[0m                    Traceback (most recent call last)",
      "Cell \u001b[0;32mIn[10], line 6\u001b[0m\n\u001b[1;32m      1\u001b[0m \u001b[38;5;66;03m# -------------------------\u001b[39;00m\n\u001b[1;32m      2\u001b[0m \u001b[38;5;66;03m# One-hot encoding for 'town' and 'flat_model'\u001b[39;00m\n\u001b[1;32m      3\u001b[0m \u001b[38;5;66;03m# -------------------------\u001b[39;00m\n\u001b[1;32m      4\u001b[0m \n\u001b[1;32m      5\u001b[0m \u001b[38;5;66;03m# Create individual stages\u001b[39;00m\n\u001b[0;32m----> 6\u001b[0m town_indexer \u001b[38;5;241m=\u001b[39m \u001b[43mStringIndexer\u001b[49m\u001b[43m(\u001b[49m\u001b[43minputCol\u001b[49m\u001b[38;5;241;43m=\u001b[39;49m\u001b[38;5;124;43m\"\u001b[39;49m\u001b[38;5;124;43mtown\u001b[39;49m\u001b[38;5;124;43m\"\u001b[39;49m\u001b[43m,\u001b[49m\u001b[43m \u001b[49m\u001b[43moutputCol\u001b[49m\u001b[38;5;241;43m=\u001b[39;49m\u001b[38;5;124;43m\"\u001b[39;49m\u001b[38;5;124;43mtown_index\u001b[39;49m\u001b[38;5;124;43m\"\u001b[39;49m\u001b[43m,\u001b[49m\u001b[43m \u001b[49m\u001b[43mhandleInvalid\u001b[49m\u001b[38;5;241;43m=\u001b[39;49m\u001b[38;5;124;43m\"\u001b[39;49m\u001b[38;5;124;43mkeep\u001b[39;49m\u001b[38;5;124;43m\"\u001b[39;49m\u001b[43m)\u001b[49m\n\u001b[1;32m      7\u001b[0m flat_model_indexer \u001b[38;5;241m=\u001b[39m StringIndexer(inputCol\u001b[38;5;241m=\u001b[39m\u001b[38;5;124m\"\u001b[39m\u001b[38;5;124mflat_model\u001b[39m\u001b[38;5;124m\"\u001b[39m, outputCol\u001b[38;5;241m=\u001b[39m\u001b[38;5;124m\"\u001b[39m\u001b[38;5;124mflat_model_index\u001b[39m\u001b[38;5;124m\"\u001b[39m, handleInvalid\u001b[38;5;241m=\u001b[39m\u001b[38;5;124m\"\u001b[39m\u001b[38;5;124mkeep\u001b[39m\u001b[38;5;124m\"\u001b[39m)\n\u001b[1;32m      8\u001b[0m street_name_indexer \u001b[38;5;241m=\u001b[39m StringIndexer(inputCol\u001b[38;5;241m=\u001b[39m\u001b[38;5;124m\"\u001b[39m\u001b[38;5;124mstreet_name\u001b[39m\u001b[38;5;124m\"\u001b[39m, outputCol\u001b[38;5;241m=\u001b[39m\u001b[38;5;124m\"\u001b[39m\u001b[38;5;124mstreet_name_index\u001b[39m\u001b[38;5;124m\"\u001b[39m, handleInvalid\u001b[38;5;241m=\u001b[39m\u001b[38;5;124m\"\u001b[39m\u001b[38;5;124mkeep\u001b[39m\u001b[38;5;124m\"\u001b[39m)\n",
      "File \u001b[0;32m/usr/local/lib/python3.10/dist-packages/pyspark/__init__.py:139\u001b[0m, in \u001b[0;36mkeyword_only.<locals>.wrapper\u001b[0;34m(self, *args, **kwargs)\u001b[0m\n\u001b[1;32m    137\u001b[0m     \u001b[38;5;28;01mraise\u001b[39;00m \u001b[38;5;167;01mTypeError\u001b[39;00m(\u001b[38;5;124m\"\u001b[39m\u001b[38;5;124mMethod \u001b[39m\u001b[38;5;132;01m%s\u001b[39;00m\u001b[38;5;124m forces keyword arguments.\u001b[39m\u001b[38;5;124m\"\u001b[39m \u001b[38;5;241m%\u001b[39m func\u001b[38;5;241m.\u001b[39m\u001b[38;5;18m__name__\u001b[39m)\n\u001b[1;32m    138\u001b[0m \u001b[38;5;28mself\u001b[39m\u001b[38;5;241m.\u001b[39m_input_kwargs \u001b[38;5;241m=\u001b[39m kwargs\n\u001b[0;32m--> 139\u001b[0m \u001b[38;5;28;01mreturn\u001b[39;00m \u001b[43mfunc\u001b[49m\u001b[43m(\u001b[49m\u001b[38;5;28;43mself\u001b[39;49m\u001b[43m,\u001b[49m\u001b[43m \u001b[49m\u001b[38;5;241;43m*\u001b[39;49m\u001b[38;5;241;43m*\u001b[39;49m\u001b[43mkwargs\u001b[49m\u001b[43m)\u001b[49m\n",
      "File \u001b[0;32m/usr/local/lib/python3.10/dist-packages/pyspark/ml/feature.py:4650\u001b[0m, in \u001b[0;36mStringIndexer.__init__\u001b[0;34m(self, inputCol, outputCol, inputCols, outputCols, handleInvalid, stringOrderType)\u001b[0m\n\u001b[1;32m   4645\u001b[0m \u001b[38;5;250m\u001b[39m\u001b[38;5;124;03m\"\"\"\u001b[39;00m\n\u001b[1;32m   4646\u001b[0m \u001b[38;5;124;03m__init__(self, \\\\*, inputCol=None, outputCol=None, inputCols=None, outputCols=None, \\\u001b[39;00m\n\u001b[1;32m   4647\u001b[0m \u001b[38;5;124;03m         handleInvalid=\"error\", stringOrderType=\"frequencyDesc\")\u001b[39;00m\n\u001b[1;32m   4648\u001b[0m \u001b[38;5;124;03m\"\"\"\u001b[39;00m\n\u001b[1;32m   4649\u001b[0m \u001b[38;5;28msuper\u001b[39m(StringIndexer, \u001b[38;5;28mself\u001b[39m)\u001b[38;5;241m.\u001b[39m\u001b[38;5;21m__init__\u001b[39m()\n\u001b[0;32m-> 4650\u001b[0m \u001b[38;5;28mself\u001b[39m\u001b[38;5;241m.\u001b[39m_java_obj \u001b[38;5;241m=\u001b[39m \u001b[38;5;28;43mself\u001b[39;49m\u001b[38;5;241;43m.\u001b[39;49m\u001b[43m_new_java_obj\u001b[49m\u001b[43m(\u001b[49m\u001b[38;5;124;43m\"\u001b[39;49m\u001b[38;5;124;43morg.apache.spark.ml.feature.StringIndexer\u001b[39;49m\u001b[38;5;124;43m\"\u001b[39;49m\u001b[43m,\u001b[49m\u001b[43m \u001b[49m\u001b[38;5;28;43mself\u001b[39;49m\u001b[38;5;241;43m.\u001b[39;49m\u001b[43muid\u001b[49m\u001b[43m)\u001b[49m\n\u001b[1;32m   4651\u001b[0m kwargs \u001b[38;5;241m=\u001b[39m \u001b[38;5;28mself\u001b[39m\u001b[38;5;241m.\u001b[39m_input_kwargs\n\u001b[1;32m   4652\u001b[0m \u001b[38;5;28mself\u001b[39m\u001b[38;5;241m.\u001b[39msetParams(\u001b[38;5;241m*\u001b[39m\u001b[38;5;241m*\u001b[39mkwargs)\n",
      "File \u001b[0;32m/usr/local/lib/python3.10/dist-packages/pyspark/ml/wrapper.py:84\u001b[0m, in \u001b[0;36mJavaWrapper._new_java_obj\u001b[0;34m(java_class, *args)\u001b[0m\n\u001b[1;32m     82\u001b[0m java_obj \u001b[38;5;241m=\u001b[39m _jvm()\n\u001b[1;32m     83\u001b[0m \u001b[38;5;28;01mfor\u001b[39;00m name \u001b[38;5;129;01min\u001b[39;00m java_class\u001b[38;5;241m.\u001b[39msplit(\u001b[38;5;124m\"\u001b[39m\u001b[38;5;124m.\u001b[39m\u001b[38;5;124m\"\u001b[39m):\n\u001b[0;32m---> 84\u001b[0m     java_obj \u001b[38;5;241m=\u001b[39m \u001b[38;5;28;43mgetattr\u001b[39;49m\u001b[43m(\u001b[49m\u001b[43mjava_obj\u001b[49m\u001b[43m,\u001b[49m\u001b[43m \u001b[49m\u001b[43mname\u001b[49m\u001b[43m)\u001b[49m\n\u001b[1;32m     85\u001b[0m java_args \u001b[38;5;241m=\u001b[39m [_py2java(sc, arg) \u001b[38;5;28;01mfor\u001b[39;00m arg \u001b[38;5;129;01min\u001b[39;00m args]\n\u001b[1;32m     86\u001b[0m \u001b[38;5;28;01mreturn\u001b[39;00m java_obj(\u001b[38;5;241m*\u001b[39mjava_args)\n",
      "File \u001b[0;32m/usr/local/lib/python3.10/dist-packages/py4j/java_gateway.py:1712\u001b[0m, in \u001b[0;36mJVMView.__getattr__\u001b[0;34m(self, name)\u001b[0m\n\u001b[1;32m   1709\u001b[0m \u001b[38;5;28;01mif\u001b[39;00m name \u001b[38;5;241m==\u001b[39m UserHelpAutoCompletion\u001b[38;5;241m.\u001b[39mKEY:\n\u001b[1;32m   1710\u001b[0m     \u001b[38;5;28;01mreturn\u001b[39;00m UserHelpAutoCompletion()\n\u001b[0;32m-> 1712\u001b[0m answer \u001b[38;5;241m=\u001b[39m \u001b[38;5;28;43mself\u001b[39;49m\u001b[38;5;241;43m.\u001b[39;49m\u001b[43m_gateway_client\u001b[49m\u001b[38;5;241;43m.\u001b[39;49m\u001b[43msend_command\u001b[49m\u001b[43m(\u001b[49m\n\u001b[1;32m   1713\u001b[0m \u001b[43m    \u001b[49m\u001b[43mproto\u001b[49m\u001b[38;5;241;43m.\u001b[39;49m\u001b[43mREFLECTION_COMMAND_NAME\u001b[49m\u001b[43m \u001b[49m\u001b[38;5;241;43m+\u001b[39;49m\n\u001b[1;32m   1714\u001b[0m \u001b[43m    \u001b[49m\u001b[43mproto\u001b[49m\u001b[38;5;241;43m.\u001b[39;49m\u001b[43mREFL_GET_UNKNOWN_SUB_COMMAND_NAME\u001b[49m\u001b[43m \u001b[49m\u001b[38;5;241;43m+\u001b[39;49m\u001b[43m \u001b[49m\u001b[43mname\u001b[49m\u001b[43m \u001b[49m\u001b[38;5;241;43m+\u001b[39;49m\u001b[43m \u001b[49m\u001b[38;5;124;43m\"\u001b[39;49m\u001b[38;5;130;43;01m\\n\u001b[39;49;00m\u001b[38;5;124;43m\"\u001b[39;49m\u001b[43m \u001b[49m\u001b[38;5;241;43m+\u001b[39;49m\u001b[43m \u001b[49m\u001b[38;5;28;43mself\u001b[39;49m\u001b[38;5;241;43m.\u001b[39;49m\u001b[43m_id\u001b[49m\u001b[43m \u001b[49m\u001b[38;5;241;43m+\u001b[39;49m\n\u001b[1;32m   1715\u001b[0m \u001b[43m    \u001b[49m\u001b[38;5;124;43m\"\u001b[39;49m\u001b[38;5;130;43;01m\\n\u001b[39;49;00m\u001b[38;5;124;43m\"\u001b[39;49m\u001b[43m \u001b[49m\u001b[38;5;241;43m+\u001b[39;49m\u001b[43m \u001b[49m\u001b[43mproto\u001b[49m\u001b[38;5;241;43m.\u001b[39;49m\u001b[43mEND_COMMAND_PART\u001b[49m\u001b[43m)\u001b[49m\n\u001b[1;32m   1716\u001b[0m \u001b[38;5;28;01mif\u001b[39;00m answer \u001b[38;5;241m==\u001b[39m proto\u001b[38;5;241m.\u001b[39mSUCCESS_PACKAGE:\n\u001b[1;32m   1717\u001b[0m     \u001b[38;5;28;01mreturn\u001b[39;00m JavaPackage(name, \u001b[38;5;28mself\u001b[39m\u001b[38;5;241m.\u001b[39m_gateway_client, jvm_id\u001b[38;5;241m=\u001b[39m\u001b[38;5;28mself\u001b[39m\u001b[38;5;241m.\u001b[39m_id)\n",
      "File \u001b[0;32m/usr/local/lib/python3.10/dist-packages/py4j/java_gateway.py:1036\u001b[0m, in \u001b[0;36mGatewayClient.send_command\u001b[0;34m(self, command, retry, binary)\u001b[0m\n\u001b[1;32m   1015\u001b[0m \u001b[38;5;28;01mdef\u001b[39;00m\u001b[38;5;250m \u001b[39m\u001b[38;5;21msend_command\u001b[39m(\u001b[38;5;28mself\u001b[39m, command, retry\u001b[38;5;241m=\u001b[39m\u001b[38;5;28;01mTrue\u001b[39;00m, binary\u001b[38;5;241m=\u001b[39m\u001b[38;5;28;01mFalse\u001b[39;00m):\n\u001b[1;32m   1016\u001b[0m \u001b[38;5;250m    \u001b[39m\u001b[38;5;124;03m\"\"\"Sends a command to the JVM. This method is not intended to be\u001b[39;00m\n\u001b[1;32m   1017\u001b[0m \u001b[38;5;124;03m       called directly by Py4J users. It is usually called by\u001b[39;00m\n\u001b[1;32m   1018\u001b[0m \u001b[38;5;124;03m       :class:`JavaMember` instances.\u001b[39;00m\n\u001b[0;32m   (...)\u001b[0m\n\u001b[1;32m   1034\u001b[0m \u001b[38;5;124;03m     if `binary` is `True`.\u001b[39;00m\n\u001b[1;32m   1035\u001b[0m \u001b[38;5;124;03m    \"\"\"\u001b[39;00m\n\u001b[0;32m-> 1036\u001b[0m     connection \u001b[38;5;241m=\u001b[39m \u001b[38;5;28;43mself\u001b[39;49m\u001b[38;5;241;43m.\u001b[39;49m\u001b[43m_get_connection\u001b[49m\u001b[43m(\u001b[49m\u001b[43m)\u001b[49m\n\u001b[1;32m   1037\u001b[0m     \u001b[38;5;28;01mtry\u001b[39;00m:\n\u001b[1;32m   1038\u001b[0m         response \u001b[38;5;241m=\u001b[39m connection\u001b[38;5;241m.\u001b[39msend_command(command)\n",
      "File \u001b[0;32m/usr/local/lib/python3.10/dist-packages/py4j/clientserver.py:284\u001b[0m, in \u001b[0;36mJavaClient._get_connection\u001b[0;34m(self)\u001b[0m\n\u001b[1;32m    281\u001b[0m     \u001b[38;5;28;01mpass\u001b[39;00m\n\u001b[1;32m    283\u001b[0m \u001b[38;5;28;01mif\u001b[39;00m connection \u001b[38;5;129;01mis\u001b[39;00m \u001b[38;5;28;01mNone\u001b[39;00m \u001b[38;5;129;01mor\u001b[39;00m connection\u001b[38;5;241m.\u001b[39msocket \u001b[38;5;129;01mis\u001b[39;00m \u001b[38;5;28;01mNone\u001b[39;00m:\n\u001b[0;32m--> 284\u001b[0m     connection \u001b[38;5;241m=\u001b[39m \u001b[38;5;28;43mself\u001b[39;49m\u001b[38;5;241;43m.\u001b[39;49m\u001b[43m_create_new_connection\u001b[49m\u001b[43m(\u001b[49m\u001b[43m)\u001b[49m\n\u001b[1;32m    285\u001b[0m \u001b[38;5;28;01mreturn\u001b[39;00m connection\n",
      "File \u001b[0;32m/usr/local/lib/python3.10/dist-packages/py4j/clientserver.py:291\u001b[0m, in \u001b[0;36mJavaClient._create_new_connection\u001b[0;34m(self)\u001b[0m\n\u001b[1;32m    287\u001b[0m \u001b[38;5;28;01mdef\u001b[39;00m\u001b[38;5;250m \u001b[39m\u001b[38;5;21m_create_new_connection\u001b[39m(\u001b[38;5;28mself\u001b[39m):\n\u001b[1;32m    288\u001b[0m     connection \u001b[38;5;241m=\u001b[39m ClientServerConnection(\n\u001b[1;32m    289\u001b[0m         \u001b[38;5;28mself\u001b[39m\u001b[38;5;241m.\u001b[39mjava_parameters, \u001b[38;5;28mself\u001b[39m\u001b[38;5;241m.\u001b[39mpython_parameters,\n\u001b[1;32m    290\u001b[0m         \u001b[38;5;28mself\u001b[39m\u001b[38;5;241m.\u001b[39mgateway_property, \u001b[38;5;28mself\u001b[39m)\n\u001b[0;32m--> 291\u001b[0m     \u001b[43mconnection\u001b[49m\u001b[38;5;241;43m.\u001b[39;49m\u001b[43mconnect_to_java_server\u001b[49m\u001b[43m(\u001b[49m\u001b[43m)\u001b[49m\n\u001b[1;32m    292\u001b[0m     \u001b[38;5;28mself\u001b[39m\u001b[38;5;241m.\u001b[39mset_thread_connection(connection)\n\u001b[1;32m    293\u001b[0m     \u001b[38;5;28;01mreturn\u001b[39;00m connection\n",
      "File \u001b[0;32m/usr/local/lib/python3.10/dist-packages/py4j/clientserver.py:438\u001b[0m, in \u001b[0;36mClientServerConnection.connect_to_java_server\u001b[0;34m(self)\u001b[0m\n\u001b[1;32m    435\u001b[0m \u001b[38;5;28;01mif\u001b[39;00m \u001b[38;5;28mself\u001b[39m\u001b[38;5;241m.\u001b[39mssl_context:\n\u001b[1;32m    436\u001b[0m     \u001b[38;5;28mself\u001b[39m\u001b[38;5;241m.\u001b[39msocket \u001b[38;5;241m=\u001b[39m \u001b[38;5;28mself\u001b[39m\u001b[38;5;241m.\u001b[39mssl_context\u001b[38;5;241m.\u001b[39mwrap_socket(\n\u001b[1;32m    437\u001b[0m         \u001b[38;5;28mself\u001b[39m\u001b[38;5;241m.\u001b[39msocket, server_hostname\u001b[38;5;241m=\u001b[39m\u001b[38;5;28mself\u001b[39m\u001b[38;5;241m.\u001b[39mjava_address)\n\u001b[0;32m--> 438\u001b[0m \u001b[38;5;28;43mself\u001b[39;49m\u001b[38;5;241;43m.\u001b[39;49m\u001b[43msocket\u001b[49m\u001b[38;5;241;43m.\u001b[39;49m\u001b[43mconnect\u001b[49m\u001b[43m(\u001b[49m\u001b[43m(\u001b[49m\u001b[38;5;28;43mself\u001b[39;49m\u001b[38;5;241;43m.\u001b[39;49m\u001b[43mjava_address\u001b[49m\u001b[43m,\u001b[49m\u001b[43m \u001b[49m\u001b[38;5;28;43mself\u001b[39;49m\u001b[38;5;241;43m.\u001b[39;49m\u001b[43mjava_port\u001b[49m\u001b[43m)\u001b[49m\u001b[43m)\u001b[49m\n\u001b[1;32m    439\u001b[0m \u001b[38;5;28mself\u001b[39m\u001b[38;5;241m.\u001b[39mstream \u001b[38;5;241m=\u001b[39m \u001b[38;5;28mself\u001b[39m\u001b[38;5;241m.\u001b[39msocket\u001b[38;5;241m.\u001b[39mmakefile(\u001b[38;5;124m\"\u001b[39m\u001b[38;5;124mrb\u001b[39m\u001b[38;5;124m\"\u001b[39m)\n\u001b[1;32m    440\u001b[0m \u001b[38;5;28mself\u001b[39m\u001b[38;5;241m.\u001b[39mis_connected \u001b[38;5;241m=\u001b[39m \u001b[38;5;28;01mTrue\u001b[39;00m\n",
      "\u001b[0;31mConnectionRefusedError\u001b[0m: [Errno 111] Connection refused"
     ]
    }
   ],
   "source": [
    "# -------------------------\n",
    "# One-hot encoding for 'town' and 'flat_model'\n",
    "# -------------------------\n",
    "\n",
    "# Create individual stages\n",
    "town_indexer = StringIndexer(inputCol=\"town\", outputCol=\"town_index\", handleInvalid=\"keep\")\n",
    "flat_model_indexer = StringIndexer(inputCol=\"flat_model\", outputCol=\"flat_model_index\", handleInvalid=\"keep\")\n",
    "street_name_indexer = StringIndexer(inputCol=\"street_name\", outputCol=\"street_name_index\", handleInvalid=\"keep\")\n",
    "\n",
    "town_encoder = OneHotEncoder(inputCols=[\"town_index\"], outputCols=[\"town_encoded\"])\n",
    "flat_model_encoder = OneHotEncoder(inputCols=[\"flat_model_index\"], outputCols=[\"flat_model_encoded\"])\n",
    "street_name_encoder = OneHotEncoder(inputCols=[\"street_name_index\"], outputCols=[\"street_name_encoded\"])\n",
    "\n",
    "# Update assembler to include encoded features\n",
    "assembler = VectorAssembler(\n",
    "    inputCols=[\"flat_type\", \"storey_range\", \"floor_area_sqm\", \"transaction_year\", \n",
    "               \"transaction_month\", \"remaining_lease_year\", \"town_encoded\", \"flat_model_encoded\", \"street_name_encoded\"],\n",
    "    outputCol=\"features\"\n",
    ")\n",
    "\n",
    "model = GBTRegressor(labelCol=\"resale_price\")\n",
    "\n",
    "# Create pipeline with individual stages\n",
    "pipeline = Pipeline(stages=[\n",
    "    town_indexer,\n",
    "    flat_model_indexer,\n",
    "    street_name_indexer,\n",
    "    town_encoder,\n",
    "    flat_model_encoder,\n",
    "    street_name_encoder,\n",
    "    assembler, \n",
    "    model\n",
    "])\n",
    "\n",
    "pipeline.show(5)"
   ]
  },
  {
   "cell_type": "code",
   "execution_count": 7,
   "id": "9d0ca355",
   "metadata": {},
   "outputs": [
    {
     "name": "stderr",
     "output_type": "stream",
     "text": [
      "[Stage 8:>                                                          (0 + 6) / 6]\r"
     ]
    },
    {
     "name": "stdout",
     "output_type": "stream",
     "text": [
      "Shape: (213666, 9)\n"
     ]
    },
    {
     "name": "stderr",
     "output_type": "stream",
     "text": [
      "                                                                                \r"
     ]
    }
   ],
   "source": [
    "rows = df.count()\n",
    "cols = len(df.columns)\n",
    "print(f\"Shape: ({rows}, {cols})\")"
   ]
  },
  {
   "cell_type": "code",
   "execution_count": 7,
   "id": "e7430bfe",
   "metadata": {},
   "outputs": [
    {
     "name": "stderr",
     "output_type": "stream",
     "text": [
      "                                                                                \r"
     ]
    },
    {
     "name": "stdout",
     "output_type": "stream",
     "text": [
      "+----------+---------+-----------------+------------+--------------+----------+------------+----------------+-----------------+--------------------+\n",
      "|      town|flat_type|      street_name|storey_range|floor_area_sqm|flat_model|resale_price|transaction_year|transaction_month|remaining_lease_year|\n",
      "+----------+---------+-----------------+------------+--------------+----------+------------+----------------+-----------------+--------------------+\n",
      "|ANG MO KIO|        2|ANG MO KIO AVE 10|           1|          44.0|  Improved|    267000.0|            2023|                1|                  55|\n",
      "|ANG MO KIO|        2| ANG MO KIO AVE 3|           2|          44.0|  Improved|    280000.0|            2023|                1|                  54|\n",
      "|ANG MO KIO|        2| ANG MO KIO AVE 3|           3|          44.0|  Improved|    282000.0|            2023|                1|                  54|\n",
      "|ANG MO KIO|        2| ANG MO KIO AVE 4|           1|          45.0|  Improved|    289800.0|            2023|                1|                  62|\n",
      "|ANG MO KIO|        2| ANG MO KIO AVE 3|           2|          49.0|  Improved|    300000.0|            2023|                1|                  53|\n",
      "+----------+---------+-----------------+------------+--------------+----------+------------+----------------+-----------------+--------------------+\n",
      "only showing top 5 rows\n",
      "\n"
     ]
    },
    {
     "name": "stderr",
     "output_type": "stream",
     "text": [
      "[Stage 10:=========>                                                (1 + 5) / 6]\r"
     ]
    },
    {
     "name": "stdout",
     "output_type": "stream",
     "text": [
      "Shape: (70270, 10)\n"
     ]
    },
    {
     "name": "stderr",
     "output_type": "stream",
     "text": [
      "                                                                                \r"
     ]
    }
   ],
   "source": [
    "# -------------------------\n",
    "# Filter for records 2023 onwards\n",
    "# -------------------------\n",
    "\n",
    "df = df.filter(\"transaction_year >= 2023\")\n",
    "df.show(5)\n",
    "\n",
    "rows = df.count()\n",
    "cols = len(df.columns)\n",
    "print(f\"Shape: ({rows}, {cols})\")"
   ]
  },
  {
   "cell_type": "code",
   "execution_count": 8,
   "id": "68e7f6de",
   "metadata": {},
   "outputs": [
    {
     "name": "stderr",
     "output_type": "stream",
     "text": [
      "[Stage 14:=============================>                            (2 + 2) / 4]\r"
     ]
    },
    {
     "name": "stdout",
     "output_type": "stream",
     "text": [
      "+----------+---------+-----------------+------------+--------------+----------+------------+----------------+-----------------+--------------------+\n",
      "|      town|flat_type|      street_name|storey_range|floor_area_sqm|flat_model|resale_price|transaction_year|transaction_month|remaining_lease_year|\n",
      "+----------+---------+-----------------+------------+--------------+----------+------------+----------------+-----------------+--------------------+\n",
      "|ANG MO KIO|        2|ANG MO KIO AVE 10|           1|          44.0|  Improved|    267000.0|            2023|                1|                  55|\n",
      "|ANG MO KIO|        2|ANG MO KIO AVE 10|           1|          44.0|  Improved|    285000.0|            2024|                2|                  54|\n",
      "|ANG MO KIO|        2|ANG MO KIO AVE 10|           2|          44.0|  Improved|    290000.0|            2023|                7|                  54|\n",
      "|ANG MO KIO|        2|ANG MO KIO AVE 10|           2|          44.0|  Improved|    305000.0|            2023|               11|                  54|\n",
      "|ANG MO KIO|        2|ANG MO KIO AVE 10|           3|          44.0|  Improved|    295000.0|            2023|               11|                  54|\n",
      "|ANG MO KIO|        2| ANG MO KIO AVE 3|           1|          44.0|  Improved|    275000.0|            2023|                5|                  53|\n",
      "|ANG MO KIO|        2| ANG MO KIO AVE 3|           1|          44.0|  Improved|    282000.0|            2023|                9|                  53|\n",
      "|ANG MO KIO|        2| ANG MO KIO AVE 3|           1|          44.0|  Improved|    288000.0|            2024|                4|                  52|\n",
      "|ANG MO KIO|        2| ANG MO KIO AVE 3|           1|          44.0|  Improved|    295000.0|            2024|                9|                  52|\n",
      "|ANG MO KIO|        2| ANG MO KIO AVE 3|           1|          44.0|  Improved|    295000.0|            2024|               11|                  52|\n",
      "+----------+---------+-----------------+------------+--------------+----------+------------+----------------+-----------------+--------------------+\n",
      "only showing top 10 rows\n",
      "\n"
     ]
    },
    {
     "name": "stderr",
     "output_type": "stream",
     "text": [
      "                                                                                \r"
     ]
    }
   ],
   "source": [
    "hdb_train, hdb_test = df.randomSplit([0.8, 0.2])\n",
    "hdb_train.show(10)"
   ]
  },
  {
   "cell_type": "code",
   "execution_count": 9,
   "id": "b9ec0460",
   "metadata": {},
   "outputs": [
    {
     "name": "stderr",
     "output_type": "stream",
     "text": [
      "ERROR:root:Exception while sending command.                                     \n",
      "Traceback (most recent call last):\n",
      "  File \"/usr/local/lib/python3.10/dist-packages/py4j/clientserver.py\", line 516, in send_command\n",
      "    raise Py4JNetworkError(\"Answer from Java side is empty\")\n",
      "py4j.protocol.Py4JNetworkError: Answer from Java side is empty\n",
      "\n",
      "During handling of the above exception, another exception occurred:\n",
      "\n",
      "Traceback (most recent call last):\n",
      "  File \"/usr/local/lib/python3.10/dist-packages/py4j/java_gateway.py\", line 1038, in send_command\n",
      "    response = connection.send_command(command)\n",
      "  File \"/usr/local/lib/python3.10/dist-packages/py4j/clientserver.py\", line 539, in send_command\n",
      "    raise Py4JNetworkError(\n",
      "py4j.protocol.Py4JNetworkError: Error while sending or receiving\n",
      "ERROR:root:Exception while sending command.\n",
      "Traceback (most recent call last):\n",
      "  File \"/usr/local/lib/python3.10/dist-packages/py4j/clientserver.py\", line 516, in send_command\n",
      "    raise Py4JNetworkError(\"Answer from Java side is empty\")\n",
      "py4j.protocol.Py4JNetworkError: Answer from Java side is empty\n",
      "\n",
      "During handling of the above exception, another exception occurred:\n",
      "\n",
      "Traceback (most recent call last):\n",
      "  File \"/usr/local/lib/python3.10/dist-packages/py4j/java_gateway.py\", line 1038, in send_command\n",
      "    response = connection.send_command(command)\n",
      "  File \"/usr/local/lib/python3.10/dist-packages/py4j/clientserver.py\", line 539, in send_command\n",
      "    raise Py4JNetworkError(\n",
      "py4j.protocol.Py4JNetworkError: Error while sending or receiving\n"
     ]
    },
    {
     "ename": "Py4JError",
     "evalue": "An error occurred while calling o142.fit",
     "output_type": "error",
     "traceback": [
      "\u001b[0;31m---------------------------------------------------------------------------\u001b[0m",
      "\u001b[0;31mPy4JError\u001b[0m                                 Traceback (most recent call last)",
      "Cell \u001b[0;32mIn[9], line 1\u001b[0m\n\u001b[0;32m----> 1\u001b[0m trained_pipeline \u001b[38;5;241m=\u001b[39m \u001b[43mpipeline\u001b[49m\u001b[38;5;241;43m.\u001b[39;49m\u001b[43mfit\u001b[49m\u001b[43m(\u001b[49m\u001b[43mhdb_train\u001b[49m\u001b[43m)\u001b[49m\n\u001b[1;32m      2\u001b[0m predictions \u001b[38;5;241m=\u001b[39m trained_pipeline\u001b[38;5;241m.\u001b[39mtransform(hdb_test)\n",
      "File \u001b[0;32m/usr/local/lib/python3.10/dist-packages/pyspark/ml/base.py:205\u001b[0m, in \u001b[0;36mEstimator.fit\u001b[0;34m(self, dataset, params)\u001b[0m\n\u001b[1;32m    203\u001b[0m         \u001b[38;5;28;01mreturn\u001b[39;00m \u001b[38;5;28mself\u001b[39m\u001b[38;5;241m.\u001b[39mcopy(params)\u001b[38;5;241m.\u001b[39m_fit(dataset)\n\u001b[1;32m    204\u001b[0m     \u001b[38;5;28;01melse\u001b[39;00m:\n\u001b[0;32m--> 205\u001b[0m         \u001b[38;5;28;01mreturn\u001b[39;00m \u001b[38;5;28;43mself\u001b[39;49m\u001b[38;5;241;43m.\u001b[39;49m\u001b[43m_fit\u001b[49m\u001b[43m(\u001b[49m\u001b[43mdataset\u001b[49m\u001b[43m)\u001b[49m\n\u001b[1;32m    206\u001b[0m \u001b[38;5;28;01melse\u001b[39;00m:\n\u001b[1;32m    207\u001b[0m     \u001b[38;5;28;01mraise\u001b[39;00m \u001b[38;5;167;01mTypeError\u001b[39;00m(\n\u001b[1;32m    208\u001b[0m         \u001b[38;5;124m\"\u001b[39m\u001b[38;5;124mParams must be either a param map or a list/tuple of param maps, \u001b[39m\u001b[38;5;124m\"\u001b[39m\n\u001b[1;32m    209\u001b[0m         \u001b[38;5;124m\"\u001b[39m\u001b[38;5;124mbut got \u001b[39m\u001b[38;5;132;01m%s\u001b[39;00m\u001b[38;5;124m.\u001b[39m\u001b[38;5;124m\"\u001b[39m \u001b[38;5;241m%\u001b[39m \u001b[38;5;28mtype\u001b[39m(params)\n\u001b[1;32m    210\u001b[0m     )\n",
      "File \u001b[0;32m/usr/local/lib/python3.10/dist-packages/pyspark/ml/pipeline.py:134\u001b[0m, in \u001b[0;36mPipeline._fit\u001b[0;34m(self, dataset)\u001b[0m\n\u001b[1;32m    132\u001b[0m     dataset \u001b[38;5;241m=\u001b[39m stage\u001b[38;5;241m.\u001b[39mtransform(dataset)\n\u001b[1;32m    133\u001b[0m \u001b[38;5;28;01melse\u001b[39;00m:  \u001b[38;5;66;03m# must be an Estimator\u001b[39;00m\n\u001b[0;32m--> 134\u001b[0m     model \u001b[38;5;241m=\u001b[39m \u001b[43mstage\u001b[49m\u001b[38;5;241;43m.\u001b[39;49m\u001b[43mfit\u001b[49m\u001b[43m(\u001b[49m\u001b[43mdataset\u001b[49m\u001b[43m)\u001b[49m\n\u001b[1;32m    135\u001b[0m     transformers\u001b[38;5;241m.\u001b[39mappend(model)\n\u001b[1;32m    136\u001b[0m     \u001b[38;5;28;01mif\u001b[39;00m i \u001b[38;5;241m<\u001b[39m indexOfLastEstimator:\n",
      "File \u001b[0;32m/usr/local/lib/python3.10/dist-packages/pyspark/ml/base.py:205\u001b[0m, in \u001b[0;36mEstimator.fit\u001b[0;34m(self, dataset, params)\u001b[0m\n\u001b[1;32m    203\u001b[0m         \u001b[38;5;28;01mreturn\u001b[39;00m \u001b[38;5;28mself\u001b[39m\u001b[38;5;241m.\u001b[39mcopy(params)\u001b[38;5;241m.\u001b[39m_fit(dataset)\n\u001b[1;32m    204\u001b[0m     \u001b[38;5;28;01melse\u001b[39;00m:\n\u001b[0;32m--> 205\u001b[0m         \u001b[38;5;28;01mreturn\u001b[39;00m \u001b[38;5;28;43mself\u001b[39;49m\u001b[38;5;241;43m.\u001b[39;49m\u001b[43m_fit\u001b[49m\u001b[43m(\u001b[49m\u001b[43mdataset\u001b[49m\u001b[43m)\u001b[49m\n\u001b[1;32m    206\u001b[0m \u001b[38;5;28;01melse\u001b[39;00m:\n\u001b[1;32m    207\u001b[0m     \u001b[38;5;28;01mraise\u001b[39;00m \u001b[38;5;167;01mTypeError\u001b[39;00m(\n\u001b[1;32m    208\u001b[0m         \u001b[38;5;124m\"\u001b[39m\u001b[38;5;124mParams must be either a param map or a list/tuple of param maps, \u001b[39m\u001b[38;5;124m\"\u001b[39m\n\u001b[1;32m    209\u001b[0m         \u001b[38;5;124m\"\u001b[39m\u001b[38;5;124mbut got \u001b[39m\u001b[38;5;132;01m%s\u001b[39;00m\u001b[38;5;124m.\u001b[39m\u001b[38;5;124m\"\u001b[39m \u001b[38;5;241m%\u001b[39m \u001b[38;5;28mtype\u001b[39m(params)\n\u001b[1;32m    210\u001b[0m     )\n",
      "File \u001b[0;32m/usr/local/lib/python3.10/dist-packages/pyspark/ml/wrapper.py:381\u001b[0m, in \u001b[0;36mJavaEstimator._fit\u001b[0;34m(self, dataset)\u001b[0m\n\u001b[1;32m    380\u001b[0m \u001b[38;5;28;01mdef\u001b[39;00m\u001b[38;5;250m \u001b[39m\u001b[38;5;21m_fit\u001b[39m(\u001b[38;5;28mself\u001b[39m, dataset: DataFrame) \u001b[38;5;241m-\u001b[39m\u001b[38;5;241m>\u001b[39m JM:\n\u001b[0;32m--> 381\u001b[0m     java_model \u001b[38;5;241m=\u001b[39m \u001b[38;5;28;43mself\u001b[39;49m\u001b[38;5;241;43m.\u001b[39;49m\u001b[43m_fit_java\u001b[49m\u001b[43m(\u001b[49m\u001b[43mdataset\u001b[49m\u001b[43m)\u001b[49m\n\u001b[1;32m    382\u001b[0m     model \u001b[38;5;241m=\u001b[39m \u001b[38;5;28mself\u001b[39m\u001b[38;5;241m.\u001b[39m_create_model(java_model)\n\u001b[1;32m    383\u001b[0m     \u001b[38;5;28;01mreturn\u001b[39;00m \u001b[38;5;28mself\u001b[39m\u001b[38;5;241m.\u001b[39m_copyValues(model)\n",
      "File \u001b[0;32m/usr/local/lib/python3.10/dist-packages/pyspark/ml/wrapper.py:378\u001b[0m, in \u001b[0;36mJavaEstimator._fit_java\u001b[0;34m(self, dataset)\u001b[0m\n\u001b[1;32m    375\u001b[0m \u001b[38;5;28;01massert\u001b[39;00m \u001b[38;5;28mself\u001b[39m\u001b[38;5;241m.\u001b[39m_java_obj \u001b[38;5;129;01mis\u001b[39;00m \u001b[38;5;129;01mnot\u001b[39;00m \u001b[38;5;28;01mNone\u001b[39;00m\n\u001b[1;32m    377\u001b[0m \u001b[38;5;28mself\u001b[39m\u001b[38;5;241m.\u001b[39m_transfer_params_to_java()\n\u001b[0;32m--> 378\u001b[0m \u001b[38;5;28;01mreturn\u001b[39;00m \u001b[38;5;28;43mself\u001b[39;49m\u001b[38;5;241;43m.\u001b[39;49m\u001b[43m_java_obj\u001b[49m\u001b[38;5;241;43m.\u001b[39;49m\u001b[43mfit\u001b[49m\u001b[43m(\u001b[49m\u001b[43mdataset\u001b[49m\u001b[38;5;241;43m.\u001b[39;49m\u001b[43m_jdf\u001b[49m\u001b[43m)\u001b[49m\n",
      "File \u001b[0;32m/usr/local/lib/python3.10/dist-packages/py4j/java_gateway.py:1322\u001b[0m, in \u001b[0;36mJavaMember.__call__\u001b[0;34m(self, *args)\u001b[0m\n\u001b[1;32m   1316\u001b[0m command \u001b[38;5;241m=\u001b[39m proto\u001b[38;5;241m.\u001b[39mCALL_COMMAND_NAME \u001b[38;5;241m+\u001b[39m\\\n\u001b[1;32m   1317\u001b[0m     \u001b[38;5;28mself\u001b[39m\u001b[38;5;241m.\u001b[39mcommand_header \u001b[38;5;241m+\u001b[39m\\\n\u001b[1;32m   1318\u001b[0m     args_command \u001b[38;5;241m+\u001b[39m\\\n\u001b[1;32m   1319\u001b[0m     proto\u001b[38;5;241m.\u001b[39mEND_COMMAND_PART\n\u001b[1;32m   1321\u001b[0m answer \u001b[38;5;241m=\u001b[39m \u001b[38;5;28mself\u001b[39m\u001b[38;5;241m.\u001b[39mgateway_client\u001b[38;5;241m.\u001b[39msend_command(command)\n\u001b[0;32m-> 1322\u001b[0m return_value \u001b[38;5;241m=\u001b[39m \u001b[43mget_return_value\u001b[49m\u001b[43m(\u001b[49m\n\u001b[1;32m   1323\u001b[0m \u001b[43m    \u001b[49m\u001b[43manswer\u001b[49m\u001b[43m,\u001b[49m\u001b[43m \u001b[49m\u001b[38;5;28;43mself\u001b[39;49m\u001b[38;5;241;43m.\u001b[39;49m\u001b[43mgateway_client\u001b[49m\u001b[43m,\u001b[49m\u001b[43m \u001b[49m\u001b[38;5;28;43mself\u001b[39;49m\u001b[38;5;241;43m.\u001b[39;49m\u001b[43mtarget_id\u001b[49m\u001b[43m,\u001b[49m\u001b[43m \u001b[49m\u001b[38;5;28;43mself\u001b[39;49m\u001b[38;5;241;43m.\u001b[39;49m\u001b[43mname\u001b[49m\u001b[43m)\u001b[49m\n\u001b[1;32m   1325\u001b[0m \u001b[38;5;28;01mfor\u001b[39;00m temp_arg \u001b[38;5;129;01min\u001b[39;00m temp_args:\n\u001b[1;32m   1326\u001b[0m     \u001b[38;5;28;01mif\u001b[39;00m \u001b[38;5;28mhasattr\u001b[39m(temp_arg, \u001b[38;5;124m\"\u001b[39m\u001b[38;5;124m_detach\u001b[39m\u001b[38;5;124m\"\u001b[39m):\n",
      "File \u001b[0;32m/usr/local/lib/python3.10/dist-packages/pyspark/errors/exceptions/captured.py:179\u001b[0m, in \u001b[0;36mcapture_sql_exception.<locals>.deco\u001b[0;34m(*a, **kw)\u001b[0m\n\u001b[1;32m    177\u001b[0m \u001b[38;5;28;01mdef\u001b[39;00m\u001b[38;5;250m \u001b[39m\u001b[38;5;21mdeco\u001b[39m(\u001b[38;5;241m*\u001b[39ma: Any, \u001b[38;5;241m*\u001b[39m\u001b[38;5;241m*\u001b[39mkw: Any) \u001b[38;5;241m-\u001b[39m\u001b[38;5;241m>\u001b[39m Any:\n\u001b[1;32m    178\u001b[0m     \u001b[38;5;28;01mtry\u001b[39;00m:\n\u001b[0;32m--> 179\u001b[0m         \u001b[38;5;28;01mreturn\u001b[39;00m \u001b[43mf\u001b[49m\u001b[43m(\u001b[49m\u001b[38;5;241;43m*\u001b[39;49m\u001b[43ma\u001b[49m\u001b[43m,\u001b[49m\u001b[43m \u001b[49m\u001b[38;5;241;43m*\u001b[39;49m\u001b[38;5;241;43m*\u001b[39;49m\u001b[43mkw\u001b[49m\u001b[43m)\u001b[49m\n\u001b[1;32m    180\u001b[0m     \u001b[38;5;28;01mexcept\u001b[39;00m Py4JJavaError \u001b[38;5;28;01mas\u001b[39;00m e:\n\u001b[1;32m    181\u001b[0m         converted \u001b[38;5;241m=\u001b[39m convert_exception(e\u001b[38;5;241m.\u001b[39mjava_exception)\n",
      "File \u001b[0;32m/usr/local/lib/python3.10/dist-packages/py4j/protocol.py:334\u001b[0m, in \u001b[0;36mget_return_value\u001b[0;34m(answer, gateway_client, target_id, name)\u001b[0m\n\u001b[1;32m    330\u001b[0m             \u001b[38;5;28;01mraise\u001b[39;00m Py4JError(\n\u001b[1;32m    331\u001b[0m                 \u001b[38;5;124m\"\u001b[39m\u001b[38;5;124mAn error occurred while calling \u001b[39m\u001b[38;5;132;01m{0}\u001b[39;00m\u001b[38;5;132;01m{1}\u001b[39;00m\u001b[38;5;132;01m{2}\u001b[39;00m\u001b[38;5;124m. Trace:\u001b[39m\u001b[38;5;130;01m\\n\u001b[39;00m\u001b[38;5;132;01m{3}\u001b[39;00m\u001b[38;5;130;01m\\n\u001b[39;00m\u001b[38;5;124m\"\u001b[39m\u001b[38;5;241m.\u001b[39m\n\u001b[1;32m    332\u001b[0m                 \u001b[38;5;28mformat\u001b[39m(target_id, \u001b[38;5;124m\"\u001b[39m\u001b[38;5;124m.\u001b[39m\u001b[38;5;124m\"\u001b[39m, name, value))\n\u001b[1;32m    333\u001b[0m     \u001b[38;5;28;01melse\u001b[39;00m:\n\u001b[0;32m--> 334\u001b[0m         \u001b[38;5;28;01mraise\u001b[39;00m Py4JError(\n\u001b[1;32m    335\u001b[0m             \u001b[38;5;124m\"\u001b[39m\u001b[38;5;124mAn error occurred while calling \u001b[39m\u001b[38;5;132;01m{0}\u001b[39;00m\u001b[38;5;132;01m{1}\u001b[39;00m\u001b[38;5;132;01m{2}\u001b[39;00m\u001b[38;5;124m\"\u001b[39m\u001b[38;5;241m.\u001b[39m\n\u001b[1;32m    336\u001b[0m             \u001b[38;5;28mformat\u001b[39m(target_id, \u001b[38;5;124m\"\u001b[39m\u001b[38;5;124m.\u001b[39m\u001b[38;5;124m\"\u001b[39m, name))\n\u001b[1;32m    337\u001b[0m \u001b[38;5;28;01melse\u001b[39;00m:\n\u001b[1;32m    338\u001b[0m     \u001b[38;5;28mtype\u001b[39m \u001b[38;5;241m=\u001b[39m answer[\u001b[38;5;241m1\u001b[39m]\n",
      "\u001b[0;31mPy4JError\u001b[0m: An error occurred while calling o142.fit"
     ]
    }
   ],
   "source": [
    "trained_pipeline = pipeline.fit(hdb_train)\n",
    "predictions = trained_pipeline.transform(hdb_test)"
   ]
  },
  {
   "cell_type": "code",
   "execution_count": 85,
   "id": "02d510f2",
   "metadata": {},
   "outputs": [
    {
     "name": "stderr",
     "output_type": "stream",
     "text": [
      "                                                                                \r"
     ]
    },
    {
     "data": {
      "text/plain": [
       "13935"
      ]
     },
     "execution_count": 85,
     "metadata": {},
     "output_type": "execute_result"
    }
   ],
   "source": [
    "hdb_test.count()"
   ]
  },
  {
   "cell_type": "code",
   "execution_count": 11,
   "id": "eee7fa84",
   "metadata": {},
   "outputs": [
    {
     "name": "stderr",
     "output_type": "stream",
     "text": [
      "25/08/15 08:09:04 WARN InstanceBuilder: Failed to load implementation from:dev.ludovic.netlib.blas.JNIBLAS\n"
     ]
    },
    {
     "name": "stdout",
     "output_type": "stream",
     "text": [
      "+----------+---------+------------+--------------+--------------+------------+----------------+-----------------+--------------------+----------+----------------+---------------+------------------+--------------------+------------------+\n",
      "|      town|flat_type|storey_range|floor_area_sqm|    flat_model|resale_price|transaction_year|transaction_month|remaining_lease_year|town_index|flat_model_index|   town_encoded|flat_model_encoded|            features|        prediction|\n",
      "+----------+---------+------------+--------------+--------------+------------+----------------+-----------------+--------------------+----------+----------------+---------------+------------------+--------------------+------------------+\n",
      "|ANG MO KIO|        2|           1|          44.0|      Improved|    275000.0|            2023|                5|                  53|      11.0|             1.0|(26,[11],[1.0])|    (21,[1],[1.0])|(53,[0,1,2,3,4,5,...|298909.02302601957|\n",
      "|ANG MO KIO|        2|           1|          44.0|      Improved|    295000.0|            2024|                9|                  52|      11.0|             1.0|(26,[11],[1.0])|    (21,[1],[1.0])|(53,[0,1,2,3,4,5,...| 322278.9341984377|\n",
      "|ANG MO KIO|        2|           2|          44.0|      Improved|    293000.0|            2023|                6|                  53|      11.0|             1.0|(26,[11],[1.0])|    (21,[1],[1.0])|(53,[0,1,2,3,4,5,...|305388.16046991834|\n",
      "|ANG MO KIO|        2|           2|          44.0|      Improved|    305000.0|            2023|               11|                  54|      11.0|             1.0|(26,[11],[1.0])|    (21,[1],[1.0])|(53,[0,1,2,3,4,5,...| 307306.2088912064|\n",
      "|ANG MO KIO|        2|           3|          44.0|      Improved|    318000.0|            2024|               12|                  52|      11.0|             1.0|(26,[11],[1.0])|    (21,[1],[1.0])|(53,[0,1,2,3,4,5,...|337376.22830640717|\n",
      "|ANG MO KIO|        3|           1|          60.0|      Improved|    350000.0|            2023|               10|                  61|      11.0|             1.0|(26,[11],[1.0])|    (21,[1],[1.0])|(53,[0,1,2,3,4,5,...| 320360.4517002622|\n",
      "|ANG MO KIO|        3|           1|          67.0|New Generation|    348000.0|            2023|                3|                  55|      11.0|             2.0|(26,[11],[1.0])|    (21,[2],[1.0])|(53,[0,1,2,3,4,5,...|351342.99853254465|\n",
      "|ANG MO KIO|        3|           1|          67.0|New Generation|    350000.0|            2023|               10|                  54|      11.0|             2.0|(26,[11],[1.0])|    (21,[2],[1.0])|(53,[0,1,2,3,4,5,...| 357735.1169934955|\n",
      "|ANG MO KIO|        3|           1|          67.0|New Generation|    352000.0|            2023|               11|                  54|      11.0|             2.0|(26,[11],[1.0])|    (21,[2],[1.0])|(53,[0,1,2,3,4,5,...| 357735.1169934955|\n",
      "|ANG MO KIO|        3|           1|          67.0|New Generation|    360000.0|            2023|                8|                  55|      11.0|             2.0|(26,[11],[1.0])|    (21,[2],[1.0])|(53,[0,1,2,3,4,5,...| 357735.1169934955|\n",
      "+----------+---------+------------+--------------+--------------+------------+----------------+-----------------+--------------------+----------+----------------+---------------+------------------+--------------------+------------------+\n",
      "only showing top 10 rows\n",
      "\n"
     ]
    },
    {
     "name": "stderr",
     "output_type": "stream",
     "text": [
      "                                                                                \r"
     ]
    }
   ],
   "source": [
    "predictions.show(10)"
   ]
  },
  {
   "cell_type": "code",
   "execution_count": null,
   "id": "158455d0",
   "metadata": {},
   "outputs": [
    {
     "name": "stderr",
     "output_type": "stream",
     "text": [
      "25/08/15 08:47:22 WARN InstanceBuilder: Failed to load implementation from:dev.ludovic.netlib.blas.JNIBLAS\n",
      "[Stage 229:===============================================>         (5 + 1) / 6]\r"
     ]
    },
    {
     "name": "stdout",
     "output_type": "stream",
     "text": [
      "Mean error: (+/-) 80850.36182848789 dollars.\n"
     ]
    },
    {
     "name": "stderr",
     "output_type": "stream",
     "text": [
      "                                                                                \r"
     ]
    }
   ],
   "source": [
    "from pyspark.ml.evaluation import RegressionEvaluator\n",
    "\n",
    "evaluator = RegressionEvaluator(labelCol=\"resale_price\")\n",
    "mean_error = evaluator.evaluate(predictions)\n",
    "print(f\"Mean error: (+/-) {mean_error} dollars.\")"
   ]
  },
  {
   "cell_type": "code",
   "execution_count": null,
   "id": "91785ad5",
   "metadata": {},
   "outputs": [],
   "source": [
    "trained_pipeline.save(\"file:///home/user/notebooks/hdb.model\")"
   ]
  }
 ],
 "metadata": {
  "kernelspec": {
   "display_name": "Python 3",
   "language": "python",
   "name": "python3"
  },
  "language_info": {
   "codemirror_mode": {
    "name": "ipython",
    "version": 3
   },
   "file_extension": ".py",
   "mimetype": "text/x-python",
   "name": "python",
   "nbconvert_exporter": "python",
   "pygments_lexer": "ipython3",
   "version": "3.10.12"
  }
 },
 "nbformat": 4,
 "nbformat_minor": 5
}
